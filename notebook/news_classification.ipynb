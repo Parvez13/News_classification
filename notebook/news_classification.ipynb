{
  "nbformat": 4,
  "nbformat_minor": 0,
  "metadata": {
    "accelerator": "GPU",
    "colab": {
      "name": "news_classification.ipynb",
      "provenance": [],
      "collapsed_sections": []
    },
    "interpreter": {
      "hash": "9b91227945803d3a6cac5659d5abe05fddeabaf64f9016c8d20009a9e3e8cd53"
    },
    "kernelspec": {
      "display_name": "Python 3 (ipykernel)",
      "language": "python",
      "name": "python3"
    },
    "language_info": {
      "codemirror_mode": {
        "name": "ipython",
        "version": 3
      },
      "file_extension": ".py",
      "mimetype": "text/x-python",
      "name": "python",
      "nbconvert_exporter": "python",
      "pygments_lexer": "ipython3",
      "version": "3.8.12"
    }
  },
  "cells": [
    {
      "cell_type": "code",
      "metadata": {
        "id": "0C4zOwEPLaAF"
      },
      "source": [
        "# Import libraries\n",
        "import numpy as np\n",
        "import pandas as pd\n",
        "import tensorflow as tf\n",
        "from tensorflow.keras import layers\n",
        "import scipy\n",
        "import nltk\n",
        "import logging\n",
        "import matplotlib.pyplot as plt\n",
        "%matplotlib inline\n",
        "\n",
        "from sklearn.model_selection import train_test_split\n",
        "import os\n",
        "\n",
        "\n",
        "\n",
        "\n"
      ],
      "execution_count": 3,
      "outputs": []
    },
    {
      "cell_type": "code",
      "metadata": {
        "id": "NagiR7L1LaAI"
      },
      "source": [
        "logging.basicConfig(filename='logs/logs.txt',\n",
        "                    filemode='a',\n",
        "                    format='%(asctime)s %(message)s',\n",
        "                    datefmt=\"%Y-%m-%d %H:%M:%S\")"
      ],
      "execution_count": 4,
      "outputs": []
    },
    {
      "cell_type": "code",
      "metadata": {
        "colab": {
          "base_uri": "https://localhost:8080/",
          "height": 206
        },
        "id": "i1kqKZzPLaAJ",
        "outputId": "f755277a-11c6-491b-962d-788810cfa6f7"
      },
      "source": [
        "#Logging\n",
        "logging.warning('Load Dataset')\n",
        "# Load dataset\n",
        "df = pd.read_csv(\"BBC_News_Train.csv\")\n",
        "\n",
        "\n",
        "# Check head\n",
        "logging.warning('Check Head')\n",
        "df.head()"
      ],
      "execution_count": 5,
      "outputs": [
        {
          "output_type": "execute_result",
          "data": {
            "text/html": [
              "<div>\n",
              "<style scoped>\n",
              "    .dataframe tbody tr th:only-of-type {\n",
              "        vertical-align: middle;\n",
              "    }\n",
              "\n",
              "    .dataframe tbody tr th {\n",
              "        vertical-align: top;\n",
              "    }\n",
              "\n",
              "    .dataframe thead th {\n",
              "        text-align: right;\n",
              "    }\n",
              "</style>\n",
              "<table border=\"1\" class=\"dataframe\">\n",
              "  <thead>\n",
              "    <tr style=\"text-align: right;\">\n",
              "      <th></th>\n",
              "      <th>ArticleId</th>\n",
              "      <th>Text</th>\n",
              "      <th>Category</th>\n",
              "    </tr>\n",
              "  </thead>\n",
              "  <tbody>\n",
              "    <tr>\n",
              "      <th>0</th>\n",
              "      <td>1833</td>\n",
              "      <td>worldcom ex-boss launches defence lawyers defe...</td>\n",
              "      <td>business</td>\n",
              "    </tr>\n",
              "    <tr>\n",
              "      <th>1</th>\n",
              "      <td>154</td>\n",
              "      <td>german business confidence slides german busin...</td>\n",
              "      <td>business</td>\n",
              "    </tr>\n",
              "    <tr>\n",
              "      <th>2</th>\n",
              "      <td>1101</td>\n",
              "      <td>bbc poll indicates economic gloom citizens in ...</td>\n",
              "      <td>business</td>\n",
              "    </tr>\n",
              "    <tr>\n",
              "      <th>3</th>\n",
              "      <td>1976</td>\n",
              "      <td>lifestyle  governs mobile choice  faster  bett...</td>\n",
              "      <td>tech</td>\n",
              "    </tr>\n",
              "    <tr>\n",
              "      <th>4</th>\n",
              "      <td>917</td>\n",
              "      <td>enron bosses in $168m payout eighteen former e...</td>\n",
              "      <td>business</td>\n",
              "    </tr>\n",
              "  </tbody>\n",
              "</table>\n",
              "</div>"
            ],
            "text/plain": [
              "   ArticleId                                               Text  Category\n",
              "0       1833  worldcom ex-boss launches defence lawyers defe...  business\n",
              "1        154  german business confidence slides german busin...  business\n",
              "2       1101  bbc poll indicates economic gloom citizens in ...  business\n",
              "3       1976  lifestyle  governs mobile choice  faster  bett...      tech\n",
              "4        917  enron bosses in $168m payout eighteen former e...  business"
            ]
          },
          "metadata": {},
          "execution_count": 5
        }
      ]
    },
    {
      "cell_type": "code",
      "metadata": {
        "colab": {
          "base_uri": "https://localhost:8080/",
          "height": 206
        },
        "id": "4G9CyFdBLaAL",
        "outputId": "a6d9da99-1cbf-4616-b2d5-6da80b34b694"
      },
      "source": [
        "# Check tail\n",
        "logging.warning('Check Tail')\n",
        "df.tail()"
      ],
      "execution_count": 6,
      "outputs": [
        {
          "output_type": "execute_result",
          "data": {
            "text/html": [
              "<div>\n",
              "<style scoped>\n",
              "    .dataframe tbody tr th:only-of-type {\n",
              "        vertical-align: middle;\n",
              "    }\n",
              "\n",
              "    .dataframe tbody tr th {\n",
              "        vertical-align: top;\n",
              "    }\n",
              "\n",
              "    .dataframe thead th {\n",
              "        text-align: right;\n",
              "    }\n",
              "</style>\n",
              "<table border=\"1\" class=\"dataframe\">\n",
              "  <thead>\n",
              "    <tr style=\"text-align: right;\">\n",
              "      <th></th>\n",
              "      <th>ArticleId</th>\n",
              "      <th>Text</th>\n",
              "      <th>Category</th>\n",
              "    </tr>\n",
              "  </thead>\n",
              "  <tbody>\n",
              "    <tr>\n",
              "      <th>1485</th>\n",
              "      <td>857</td>\n",
              "      <td>double eviction from big brother model caprice...</td>\n",
              "      <td>entertainment</td>\n",
              "    </tr>\n",
              "    <tr>\n",
              "      <th>1486</th>\n",
              "      <td>325</td>\n",
              "      <td>dj double act revamp chart show dj duo jk and ...</td>\n",
              "      <td>entertainment</td>\n",
              "    </tr>\n",
              "    <tr>\n",
              "      <th>1487</th>\n",
              "      <td>1590</td>\n",
              "      <td>weak dollar hits reuters revenues at media gro...</td>\n",
              "      <td>business</td>\n",
              "    </tr>\n",
              "    <tr>\n",
              "      <th>1488</th>\n",
              "      <td>1587</td>\n",
              "      <td>apple ipod family expands market apple has exp...</td>\n",
              "      <td>tech</td>\n",
              "    </tr>\n",
              "    <tr>\n",
              "      <th>1489</th>\n",
              "      <td>538</td>\n",
              "      <td>santy worm makes unwelcome visit thousands of ...</td>\n",
              "      <td>tech</td>\n",
              "    </tr>\n",
              "  </tbody>\n",
              "</table>\n",
              "</div>"
            ],
            "text/plain": [
              "      ArticleId  ...       Category\n",
              "1485        857  ...  entertainment\n",
              "1486        325  ...  entertainment\n",
              "1487       1590  ...       business\n",
              "1488       1587  ...           tech\n",
              "1489        538  ...           tech\n",
              "\n",
              "[5 rows x 3 columns]"
            ]
          },
          "metadata": {},
          "execution_count": 6
        }
      ]
    },
    {
      "cell_type": "code",
      "metadata": {
        "colab": {
          "base_uri": "https://localhost:8080/"
        },
        "id": "irfdIMysLaAM",
        "outputId": "4904fb3f-4eff-4623-a901-3ff825e744b3"
      },
      "source": [
        "# Info\n",
        "logging.warning('Info')\n",
        "df.info()"
      ],
      "execution_count": 7,
      "outputs": [
        {
          "output_type": "stream",
          "name": "stdout",
          "text": [
            "<class 'pandas.core.frame.DataFrame'>\n",
            "RangeIndex: 1490 entries, 0 to 1489\n",
            "Data columns (total 3 columns):\n",
            " #   Column     Non-Null Count  Dtype \n",
            "---  ------     --------------  ----- \n",
            " 0   ArticleId  1490 non-null   int64 \n",
            " 1   Text       1490 non-null   object\n",
            " 2   Category   1490 non-null   object\n",
            "dtypes: int64(1), object(2)\n",
            "memory usage: 35.0+ KB\n"
          ]
        }
      ]
    },
    {
      "cell_type": "code",
      "metadata": {
        "colab": {
          "base_uri": "https://localhost:8080/",
          "height": 300
        },
        "id": "M3O5_1QQLaAM",
        "outputId": "947e4137-ea89-408e-8f83-96b36c59ab98"
      },
      "source": [
        "# Describe\n",
        "logging.warning('Describe')\n",
        "df.describe()"
      ],
      "execution_count": 8,
      "outputs": [
        {
          "output_type": "execute_result",
          "data": {
            "text/html": [
              "<div>\n",
              "<style scoped>\n",
              "    .dataframe tbody tr th:only-of-type {\n",
              "        vertical-align: middle;\n",
              "    }\n",
              "\n",
              "    .dataframe tbody tr th {\n",
              "        vertical-align: top;\n",
              "    }\n",
              "\n",
              "    .dataframe thead th {\n",
              "        text-align: right;\n",
              "    }\n",
              "</style>\n",
              "<table border=\"1\" class=\"dataframe\">\n",
              "  <thead>\n",
              "    <tr style=\"text-align: right;\">\n",
              "      <th></th>\n",
              "      <th>ArticleId</th>\n",
              "    </tr>\n",
              "  </thead>\n",
              "  <tbody>\n",
              "    <tr>\n",
              "      <th>count</th>\n",
              "      <td>1490.000000</td>\n",
              "    </tr>\n",
              "    <tr>\n",
              "      <th>mean</th>\n",
              "      <td>1119.696644</td>\n",
              "    </tr>\n",
              "    <tr>\n",
              "      <th>std</th>\n",
              "      <td>641.826283</td>\n",
              "    </tr>\n",
              "    <tr>\n",
              "      <th>min</th>\n",
              "      <td>2.000000</td>\n",
              "    </tr>\n",
              "    <tr>\n",
              "      <th>25%</th>\n",
              "      <td>565.250000</td>\n",
              "    </tr>\n",
              "    <tr>\n",
              "      <th>50%</th>\n",
              "      <td>1112.500000</td>\n",
              "    </tr>\n",
              "    <tr>\n",
              "      <th>75%</th>\n",
              "      <td>1680.750000</td>\n",
              "    </tr>\n",
              "    <tr>\n",
              "      <th>max</th>\n",
              "      <td>2224.000000</td>\n",
              "    </tr>\n",
              "  </tbody>\n",
              "</table>\n",
              "</div>"
            ],
            "text/plain": [
              "         ArticleId\n",
              "count  1490.000000\n",
              "mean   1119.696644\n",
              "std     641.826283\n",
              "min       2.000000\n",
              "25%     565.250000\n",
              "50%    1112.500000\n",
              "75%    1680.750000\n",
              "max    2224.000000"
            ]
          },
          "metadata": {},
          "execution_count": 8
        }
      ]
    },
    {
      "cell_type": "code",
      "metadata": {
        "colab": {
          "base_uri": "https://localhost:8080/"
        },
        "id": "OYG-jMa2LaAN",
        "outputId": "7ec042f1-e1dc-4cdc-af89-28ef8f0aa58c"
      },
      "source": [
        "# Checking any null values\n",
        "logging.warning('Checking Null Values')\n",
        "df.isna().sum()"
      ],
      "execution_count": 9,
      "outputs": [
        {
          "output_type": "execute_result",
          "data": {
            "text/plain": [
              "ArticleId    0\n",
              "Text         0\n",
              "Category     0\n",
              "dtype: int64"
            ]
          },
          "metadata": {},
          "execution_count": 9
        }
      ]
    },
    {
      "cell_type": "code",
      "metadata": {
        "colab": {
          "base_uri": "https://localhost:8080/"
        },
        "id": "cY6KU-FELaAO",
        "outputId": "c0c1daf2-adb5-45f5-a1a3-9d9421a024ed"
      },
      "source": [
        "df.shape"
      ],
      "execution_count": 10,
      "outputs": [
        {
          "output_type": "execute_result",
          "data": {
            "text/plain": [
              "(1490, 3)"
            ]
          },
          "metadata": {},
          "execution_count": 10
        }
      ]
    },
    {
      "cell_type": "code",
      "metadata": {
        "colab": {
          "base_uri": "https://localhost:8080/"
        },
        "id": "0nnJhi6JLaAP",
        "outputId": "1afd8df3-4578-4c0d-df04-a244a9564ac3"
      },
      "source": [
        "# Value counts\n",
        "logging.warning('Check value counts for Category')\n",
        "df['Category'].value_counts()"
      ],
      "execution_count": 11,
      "outputs": [
        {
          "output_type": "execute_result",
          "data": {
            "text/plain": [
              "sport            346\n",
              "business         336\n",
              "politics         274\n",
              "entertainment    273\n",
              "tech             261\n",
              "Name: Category, dtype: int64"
            ]
          },
          "metadata": {},
          "execution_count": 11
        }
      ]
    },
    {
      "cell_type": "code",
      "metadata": {
        "id": "ffi_pyvCLaAQ"
      },
      "source": [
        "# Preprocessing\n",
        "logging.warning(\"-\"*100)\n",
        "logging.warning('Preprocessing')\n"
      ],
      "execution_count": 12,
      "outputs": []
    },
    {
      "cell_type": "code",
      "metadata": {
        "colab": {
          "base_uri": "https://localhost:8080/",
          "height": 423
        },
        "id": "KXTor1u1LaAQ",
        "outputId": "4faee184-3937-4a3c-b553-33d8411ce77c"
      },
      "source": [
        "df"
      ],
      "execution_count": 13,
      "outputs": [
        {
          "output_type": "execute_result",
          "data": {
            "text/html": [
              "<div>\n",
              "<style scoped>\n",
              "    .dataframe tbody tr th:only-of-type {\n",
              "        vertical-align: middle;\n",
              "    }\n",
              "\n",
              "    .dataframe tbody tr th {\n",
              "        vertical-align: top;\n",
              "    }\n",
              "\n",
              "    .dataframe thead th {\n",
              "        text-align: right;\n",
              "    }\n",
              "</style>\n",
              "<table border=\"1\" class=\"dataframe\">\n",
              "  <thead>\n",
              "    <tr style=\"text-align: right;\">\n",
              "      <th></th>\n",
              "      <th>ArticleId</th>\n",
              "      <th>Text</th>\n",
              "      <th>Category</th>\n",
              "    </tr>\n",
              "  </thead>\n",
              "  <tbody>\n",
              "    <tr>\n",
              "      <th>0</th>\n",
              "      <td>1833</td>\n",
              "      <td>worldcom ex-boss launches defence lawyers defe...</td>\n",
              "      <td>business</td>\n",
              "    </tr>\n",
              "    <tr>\n",
              "      <th>1</th>\n",
              "      <td>154</td>\n",
              "      <td>german business confidence slides german busin...</td>\n",
              "      <td>business</td>\n",
              "    </tr>\n",
              "    <tr>\n",
              "      <th>2</th>\n",
              "      <td>1101</td>\n",
              "      <td>bbc poll indicates economic gloom citizens in ...</td>\n",
              "      <td>business</td>\n",
              "    </tr>\n",
              "    <tr>\n",
              "      <th>3</th>\n",
              "      <td>1976</td>\n",
              "      <td>lifestyle  governs mobile choice  faster  bett...</td>\n",
              "      <td>tech</td>\n",
              "    </tr>\n",
              "    <tr>\n",
              "      <th>4</th>\n",
              "      <td>917</td>\n",
              "      <td>enron bosses in $168m payout eighteen former e...</td>\n",
              "      <td>business</td>\n",
              "    </tr>\n",
              "    <tr>\n",
              "      <th>...</th>\n",
              "      <td>...</td>\n",
              "      <td>...</td>\n",
              "      <td>...</td>\n",
              "    </tr>\n",
              "    <tr>\n",
              "      <th>1485</th>\n",
              "      <td>857</td>\n",
              "      <td>double eviction from big brother model caprice...</td>\n",
              "      <td>entertainment</td>\n",
              "    </tr>\n",
              "    <tr>\n",
              "      <th>1486</th>\n",
              "      <td>325</td>\n",
              "      <td>dj double act revamp chart show dj duo jk and ...</td>\n",
              "      <td>entertainment</td>\n",
              "    </tr>\n",
              "    <tr>\n",
              "      <th>1487</th>\n",
              "      <td>1590</td>\n",
              "      <td>weak dollar hits reuters revenues at media gro...</td>\n",
              "      <td>business</td>\n",
              "    </tr>\n",
              "    <tr>\n",
              "      <th>1488</th>\n",
              "      <td>1587</td>\n",
              "      <td>apple ipod family expands market apple has exp...</td>\n",
              "      <td>tech</td>\n",
              "    </tr>\n",
              "    <tr>\n",
              "      <th>1489</th>\n",
              "      <td>538</td>\n",
              "      <td>santy worm makes unwelcome visit thousands of ...</td>\n",
              "      <td>tech</td>\n",
              "    </tr>\n",
              "  </tbody>\n",
              "</table>\n",
              "<p>1490 rows × 3 columns</p>\n",
              "</div>"
            ],
            "text/plain": [
              "      ArticleId  ...       Category\n",
              "0          1833  ...       business\n",
              "1           154  ...       business\n",
              "2          1101  ...       business\n",
              "3          1976  ...           tech\n",
              "4           917  ...       business\n",
              "...         ...  ...            ...\n",
              "1485        857  ...  entertainment\n",
              "1486        325  ...  entertainment\n",
              "1487       1590  ...       business\n",
              "1488       1587  ...           tech\n",
              "1489        538  ...           tech\n",
              "\n",
              "[1490 rows x 3 columns]"
            ]
          },
          "metadata": {},
          "execution_count": 13
        }
      ]
    },
    {
      "cell_type": "code",
      "metadata": {
        "colab": {
          "base_uri": "https://localhost:8080/",
          "height": 423
        },
        "id": "87Ijz3odN-U5",
        "outputId": "11a66d1e-201c-4ac7-8314-879b4e4f2f2b"
      },
      "source": [
        "df_shuffled = df.sample(frac=1,random_state=42)\n",
        "df_shuffled"
      ],
      "execution_count": 14,
      "outputs": [
        {
          "output_type": "execute_result",
          "data": {
            "text/html": [
              "<div>\n",
              "<style scoped>\n",
              "    .dataframe tbody tr th:only-of-type {\n",
              "        vertical-align: middle;\n",
              "    }\n",
              "\n",
              "    .dataframe tbody tr th {\n",
              "        vertical-align: top;\n",
              "    }\n",
              "\n",
              "    .dataframe thead th {\n",
              "        text-align: right;\n",
              "    }\n",
              "</style>\n",
              "<table border=\"1\" class=\"dataframe\">\n",
              "  <thead>\n",
              "    <tr style=\"text-align: right;\">\n",
              "      <th></th>\n",
              "      <th>ArticleId</th>\n",
              "      <th>Text</th>\n",
              "      <th>Category</th>\n",
              "    </tr>\n",
              "  </thead>\n",
              "  <tbody>\n",
              "    <tr>\n",
              "      <th>941</th>\n",
              "      <td>2160</td>\n",
              "      <td>wal-mart is sued over rude lyrics the parents ...</td>\n",
              "      <td>entertainment</td>\n",
              "    </tr>\n",
              "    <tr>\n",
              "      <th>297</th>\n",
              "      <td>1360</td>\n",
              "      <td>howard taunts blair over splits tony blair s f...</td>\n",
              "      <td>politics</td>\n",
              "    </tr>\n",
              "    <tr>\n",
              "      <th>271</th>\n",
              "      <td>302</td>\n",
              "      <td>fox attacks blair s tory  lies  tony blair lie...</td>\n",
              "      <td>politics</td>\n",
              "    </tr>\n",
              "    <tr>\n",
              "      <th>774</th>\n",
              "      <td>864</td>\n",
              "      <td>online commons to spark debate online communit...</td>\n",
              "      <td>tech</td>\n",
              "    </tr>\n",
              "    <tr>\n",
              "      <th>420</th>\n",
              "      <td>2184</td>\n",
              "      <td>piero gives rugby perspective bbc sport unveil...</td>\n",
              "      <td>tech</td>\n",
              "    </tr>\n",
              "    <tr>\n",
              "      <th>...</th>\n",
              "      <td>...</td>\n",
              "      <td>...</td>\n",
              "      <td>...</td>\n",
              "    </tr>\n",
              "    <tr>\n",
              "      <th>1130</th>\n",
              "      <td>193</td>\n",
              "      <td>blair  said he would stand down  tony blair pr...</td>\n",
              "      <td>politics</td>\n",
              "    </tr>\n",
              "    <tr>\n",
              "      <th>1294</th>\n",
              "      <td>111</td>\n",
              "      <td>us trade gap hits record in 2004 the gap betwe...</td>\n",
              "      <td>business</td>\n",
              "    </tr>\n",
              "    <tr>\n",
              "      <th>860</th>\n",
              "      <td>833</td>\n",
              "      <td>tories pledge free sports lessons children wou...</td>\n",
              "      <td>politics</td>\n",
              "    </tr>\n",
              "    <tr>\n",
              "      <th>1459</th>\n",
              "      <td>2206</td>\n",
              "      <td>dance music not dead says fatboy dj norman coo...</td>\n",
              "      <td>entertainment</td>\n",
              "    </tr>\n",
              "    <tr>\n",
              "      <th>1126</th>\n",
              "      <td>759</td>\n",
              "      <td>greek pair attend drugs hearing greek sprinter...</td>\n",
              "      <td>sport</td>\n",
              "    </tr>\n",
              "  </tbody>\n",
              "</table>\n",
              "<p>1490 rows × 3 columns</p>\n",
              "</div>"
            ],
            "text/plain": [
              "      ArticleId  ...       Category\n",
              "941        2160  ...  entertainment\n",
              "297        1360  ...       politics\n",
              "271         302  ...       politics\n",
              "774         864  ...           tech\n",
              "420        2184  ...           tech\n",
              "...         ...  ...            ...\n",
              "1130        193  ...       politics\n",
              "1294        111  ...       business\n",
              "860         833  ...       politics\n",
              "1459       2206  ...  entertainment\n",
              "1126        759  ...          sport\n",
              "\n",
              "[1490 rows x 3 columns]"
            ]
          },
          "metadata": {},
          "execution_count": 14
        }
      ]
    },
    {
      "cell_type": "code",
      "metadata": {
        "id": "Nvr69tS_LaAR"
      },
      "source": [
        "# text\n",
        "text = df_shuffled['Text'].to_numpy()\n",
        "# Category\n",
        "category = df_shuffled['Category'].to_numpy()"
      ],
      "execution_count": 15,
      "outputs": []
    },
    {
      "cell_type": "code",
      "metadata": {
        "colab": {
          "base_uri": "https://localhost:8080/"
        },
        "id": "J8dlEHHSLaAR",
        "outputId": "e815d078-3778-48e2-d08a-bc2284d36075"
      },
      "source": [
        "category"
      ],
      "execution_count": 16,
      "outputs": [
        {
          "output_type": "execute_result",
          "data": {
            "text/plain": [
              "array(['entertainment', 'politics', 'politics', ..., 'politics',\n",
              "       'entertainment', 'sport'], dtype=object)"
            ]
          },
          "metadata": {},
          "execution_count": 16
        }
      ]
    },
    {
      "cell_type": "code",
      "metadata": {
        "id": "bm5P6HSUA_Mi"
      },
      "source": [
        "logging.warning(\"Labels One Hot\")"
      ],
      "execution_count": 17,
      "outputs": []
    },
    {
      "cell_type": "code",
      "metadata": {
        "colab": {
          "base_uri": "https://localhost:8080/"
        },
        "id": "_lLRAH_B8jGs",
        "outputId": "eca22018-c977-43fd-8d72-eaf9d58e6443"
      },
      "source": [
        "# One Hot encode labels\n",
        "from sklearn.preprocessing import OneHotEncoder\n",
        "one_hot = OneHotEncoder(sparse=False)\n",
        "labels_one_hot = one_hot.fit_transform(category.reshape(-1,1))\n",
        "labels_one_hot"
      ],
      "execution_count": 18,
      "outputs": [
        {
          "output_type": "execute_result",
          "data": {
            "text/plain": [
              "array([[0., 1., 0., 0., 0.],\n",
              "       [0., 0., 1., 0., 0.],\n",
              "       [0., 0., 1., 0., 0.],\n",
              "       ...,\n",
              "       [0., 0., 1., 0., 0.],\n",
              "       [0., 1., 0., 0., 0.],\n",
              "       [0., 0., 0., 1., 0.]])"
            ]
          },
          "metadata": {},
          "execution_count": 18
        }
      ]
    },
    {
      "cell_type": "code",
      "metadata": {
        "id": "vo0UI-H0BE71"
      },
      "source": [
        "logging.warning(\"Labels encoded\")"
      ],
      "execution_count": 19,
      "outputs": []
    },
    {
      "cell_type": "code",
      "metadata": {
        "colab": {
          "base_uri": "https://localhost:8080/"
        },
        "id": "3pTgYi8F-YFX",
        "outputId": "179a57d4-aa5f-457a-c31f-b5c27ef1f596"
      },
      "source": [
        "# Labels encode\n",
        "from sklearn.preprocessing import LabelEncoder\n",
        "label_encoder = LabelEncoder()\n",
        "labels_encoded = label_encoder.fit_transform(category)\n",
        "labels_encoded[:20]"
      ],
      "execution_count": 20,
      "outputs": [
        {
          "output_type": "execute_result",
          "data": {
            "text/plain": [
              "array([1, 2, 2, 4, 4, 0, 4, 1, 0, 4, 2, 1, 0, 3, 4, 4, 0, 3, 2, 0])"
            ]
          },
          "metadata": {},
          "execution_count": 20
        }
      ]
    },
    {
      "cell_type": "code",
      "metadata": {
        "colab": {
          "base_uri": "https://localhost:8080/"
        },
        "id": "EFDV7j1h-xz7",
        "outputId": "93d6f9c2-c25b-48e0-eede-b24c7c156977"
      },
      "source": [
        "# Get class names and number of classes from labelencoder instance\n",
        "num_classes = len(label_encoder.classes_)\n",
        "class_names = label_encoder.classes_\n",
        "num_classes, class_names"
      ],
      "execution_count": 21,
      "outputs": [
        {
          "output_type": "execute_result",
          "data": {
            "text/plain": [
              "(5, array(['business', 'entertainment', 'politics', 'sport', 'tech'],\n",
              "       dtype=object))"
            ]
          },
          "metadata": {},
          "execution_count": 21
        }
      ]
    },
    {
      "cell_type": "code",
      "metadata": {
        "id": "TBqDUj4vCZhY"
      },
      "source": [
        "logging.warning(\"-\"*100)\n",
        "logging.warning('Splitting')\n",
        "\n",
        "train_sentences,val_sentences,train_labels,val_labels = train_test_split(text,\n",
        "                                                                        labels_encoded,\n",
        "                                                                        random_state=42,\n",
        "                                                                        test_size=0.2)"
      ],
      "execution_count": 23,
      "outputs": []
    },
    {
      "cell_type": "code",
      "metadata": {
        "id": "6uJj-mooO71I"
      },
      "source": [
        "logging.warning(\"-\"*100)"
      ],
      "execution_count": 24,
      "outputs": []
    },
    {
      "cell_type": "code",
      "metadata": {
        "colab": {
          "base_uri": "https://localhost:8080/"
        },
        "id": "kIR4aQ6YPIYZ",
        "outputId": "0bc986a5-cce1-4792-fc49-ab9488bc3215"
      },
      "source": [
        "train_sentences[:10], train_labels[:10]"
      ],
      "execution_count": 25,
      "outputs": [
        {
          "output_type": "execute_result",
          "data": {
            "text/plain": [
              "(array(['faith schools citizenship warning schools must improve the quality of citizenship lessons - or social cohesion and democracy will suffer  says the education watchdog.  independent faith schools were singled out by ofsted chief  david bell  for not doing enough to promote the  wider tenets of british society . mr bell said muslim  jewish and evangelical christian schools must be  intolerant of intolerance . diversity  certainly must not mean segregated or separate   he said. mr bell s speech called for a much greater effort in all types of schools to teach citizenship - with an accompanying survey showing that young people knew little about politics and had no enthusiasm to find out more.  badly-taught citizenship lessons have previously been criticised by mr bell  and in a speech to the hansard society  he warned that it was failing to pass on an understanding of democracy  public service and shared values. he highlighted his particular concern for citizenship in the growing number of independent faith schools - which he said included about 100 muslim  100 evangelical christian and 50 jewish schools.  mr bell expressed concern about schools which did not teach children enough about a  common heritage  and needed to do more to promote principles of mutual tolerance and social inclusion.  i worry that many young people are being educated in faith-based schools  with little appreciation of their wider responsibilities and obligations to british society   said mr bell. the ofsted chief said his forthcoming annual report would make particular reference to muslim schools.  many must adapt their curriculum to ensure that it provides pupils with a broad general knowledge of public institutions and services in england and helps them to acquire an appreciation of and respect for other cultures in a way that promotes tolerance and harmony.  mr bell said such questions of religion and cultural identity were  tricky issues . but he argued that  we must not allow our recognition of diversity to become apathy in the face of any challenge to our coherence as a nation .  i would go further and say that an awareness of our common heritage as british citizens  equal under the law  should enable us to assert with confidence that we are intolerant of intolerance  illiberalism and attitudes and values that demean the place of certain sections of our community  be they women or people living in non-traditional relationships   said mr bell.',\n",
              "        'o sullivan quick to hail italians ireland coach eddie o sullivan heaped praise on italy after seeing his side stutter to a 28-17 victory in rome.   it was a hell of a tough game   said o sullivan.  we struggled in the first half because we hadn t the football.  italy played really well. they handled the ball well in terms of kicking it  if that s not an oxymoron.  we said before the game that it might take until 10 minutes from the end for this game to be won  and that s how it turned out.  ireland struggled to cope with italy s fierce start and were indebted to skipper brian o driscoll  who set up tries for geordan murphy and peter stringer.  we had our first attack in the italian half after 22 minutes   said o sullivan.  we had a good return  with three first-half possessions in their half and we scored twice.  the second half was about spending more time in their half.  scrum-half peter stringer was also glad that ireland escaped wtih a victory.  all credit to them   he told bbc sport.  we knew it would be tough coming to rome. they always give us a tough game here and they showed a lot of spirit.  they had a lot of ball in the first half but we got a few scores when we got into their 22.',\n",
              "        'christmas song formula  unveiled a formula for the ultimate christmas single has been revealed by chart bible british hit singles and albums.  the recipe includes a reference to father christmas  sleigh bells  a children s choir and a charity element. the song should also include christmas in the title  wishes for peace on earth and lots of airplay at office parties.  there are common musical elements linking nearly all the big christmas number ones of recent times   said editor david roberts. the book s analysts commissioned chart prank group moped to create the first christmas single using the whole formula - the song is called gonna have a no 1 this christmas by moped vs santa.   everybody says that christmas number ones are formulaic  but gonna have a number one this christmas is the first song to crack the formula and combine all these elements into one ultimate christmas track  said mr roberts.  surprisingly  there s no santa listed among the 8 000  top 75 chart performers in the book  so this is our chance to help santa to his rightful place in british recording history.  big festive hits over the years include band aid s do they know it s christmas   slade s merry christmas everybody  wham s last christmas and sir cliff richards  mistletoe and wine. band aid 20 s remake of do they know it s christmas is set to be confirmed as number one in the charts on sunday.',\n",
              "        'mps issued with blackberry threat mps will be thrown out of the commons if they use blackberries in the chamber speaker michael martin has ruled.  the £200 handheld computers can be used as a phone  pager or to send e-mails. the devices gained new prominence this week after alastair campbell used his to accidentally send an expletive-laden message to a newsnight journalist. mr martin revealed some mps had been using their blackberries during debates and he also cautioned members against using hidden earpieces.  the use of electronic devices in the commons chamber has long been frowned on. the sound of a mobile phone or a pager can result in a strong rebuke from either the speaker or his deputies. the speaker chairs debates in the commons and is charged with ensuring order in the chamber and enforcing rules and conventions of the house. he or she is always an mp chosen by colleagues who  once nominated  gives up all party political allegiances.',\n",
              "        'deal to ban  homophobic  reggae the reggae industry is to refuse to release or stage concerts featuring homophobic songs under a global deal struck with gay rights groups.  a damaging campaign against stars such as beenie man and sizzla has been waged over lyrics that allegedly call for gay people to be killed or assaulted. the campaign  which led to gigs being scrapped and a uk police investigation  will now be dropped under the truce. brett lock of gay group outrage! said they were  wiping the slate clean . the protests had been led by the stop murder music coalition  an umbrella group including outrage!  the black gay men s advisory group and jamaican movement j-flag.  that coalition has reached a verbal agreement with major dancehall reggae record labels and concert promoters covering eight of the scene s biggest stars. but the artists themselves were not involved in the negotiations and have not directly signed up. instead  the record companies have pledged not to release or re-release any offensive songs - many of which date back a number of years. and it is believed promoters will make stars agree not to perform such tunes on stage.  the reggae industry will work with the artists while still maintaining their freedom of speech and artistic freedom   according to media and pr strategist glen yearwood  who is representing the reggae industry.  the industry would halt any attempt by an artist to perform or release a song inciting violence against any group or gender  he said.  we ll advise them this is not the way forward in a civilised society.  the stop murder music campaign saw protesters picket gigs  resulted in sizzla s uk tour being cancelled in november  forced mobo award organisers to drop artists from nominations and saw beenie man dropped from an mtv show in august. police have also been investigating whether lyrics incite the assault and murder of gay people. the campaign was a blow to the reggae industry  mr yearwood admitted.  if you can t have major stars touring  then you don t sell many albums   he said.  but the artists - beenie man  sizzla  elephant man  buju banton  bounty killer  tok  capleton and vybz kartel - will not have to apologise for past songs or comments. outrage! s mr lock said:  the main players in the dancehall reggae industry will attempt to regulate the industry themselves to ensure that there aren t any violently homophobic or gay-bashing lyrics in the future.  as a gesture of good faith  the stop murder music coalition has agreed to suspend our aggressive campaigning against murder music.  so we shall not be picketing concerts or calling for prosecutions to give the industry the space to regulate and reform itself.  record companies vp and greensleeves  distributor jet star and concert promoters including jammins and apollo entertainment are all on board.',\n",
              "        'original exorcist to be screened the original version of horror prequel exorcist: the beginning  dropped by producers over claims it was not scary enough  is to have its world premiere.  the film  directed by paul schrader  will be screened on 18 march at the international festival of fantastic film in brussels. the psychological drama stars stellan skarsgard and foreruns the 1973 film. schrader was replaced by director renny harlin who made a new version of the film which debuted in 2004. the prequel project was originally announced in 2001  with actor liam neeson in the lead role and john frankenheimer as director. however frankenheimer pulled out in 2002  a month before he died.  skarsgard then replaced neeson in the role of father merrin  made famous by max von sydow in the 1973 film. principal footage was shot in morocco and rome at a reported cost of $32m. however  in august 2003 it emerged that producers morgan creek were shelving schrader s version of the film  having complained it was not scary enough. as well as replacing schrader with harlin - the director behind die hard 2 and cliffhanger - the producers also changed most of the cast  but swedish star skarsgard stayed in the merrin role. harlin s film  released in the uk in october 2004  received lukewarm reviews but went on to make over $76m (£40.7m) worldwide. the festival screening will be the first time that schrader s film has been seen in public. reports that it will be released either in cinemas or on dvd have yet to be confirmed. other films at the festival in the belgium capital  which runs from 11-26 march  include the us horror hit boogeyman and the forthcoming sequel ring 2  as well as a selection of films adapted from the works of jules verne.',\n",
              "        'mobile music challenges  ipod age  nokia and microsoft have agreed a deal to work on delivery of music to handsets  while sony ericsson has unveiled its phone walkman and motorola is working on an itunes phone.  can mobile phones replace the mp3 player in your pocket  the music download market has been growing steadily since record firms embraced digital distribution. ease of use  relative low price and increased access to broadband has helped drive the phenomenal growth of mp3 players.  full-length music downloads on mobile phones have not taken off so quickly - held back by technical challenges as well as issues over music availability. but the mobile music industry is confident that the days of dedicated mp3 players are numbered.  gilles babinet  chief executive of mobile music firm musiwave  said:  music downloads on mobiles have the potential to be the biggest-ever medium for music.   musiwave provides downloading infrastructure for the mobile phone market and mr babinet said the industry was enjoying  definite momentum.  but there are hurdles to overcome. mobile phones offer limited storage for music - certainly nothing to rival apple s 60gb ipod. but the first mobile phones with hard disk players will be on the market soon and the current generation of mobiles using flash technology can store up to one gigabyte of music - enough for 250 songs.  we are working in the hard disk area and we will be bringing out exciting devices   jonas guest  vice president for entertainment at nokia  told the bbc news website. but will mobiles become mere storage devices   one of the problems we could have is that mobiles are used just for storage and playback while pcs are used for downloading   said mr babinet   we don t want people to cast aside their pcs - we want mobile users to hook up into the existing ecosystems   explained mr guest.  you must enable people to transfer music from a pc to a handset and vice versa.   one of the key elements of the nokia and microsoft deal is the agreed ability to transfer songs between a handset and a pc. microsoft will adopt open standards allowing music to cross boundaries for the first time. songs can be downloaded on pc or mobile and transferred between the platforms.  the line between online and wireless is going to blur   predicted ted cohen  senior vice president of digital development and distribution at emi. he said:  the market is more regional in its maturity. in asia it is beyond belief.  the majority of our digital revenues in asia comes from mobiles. in north america it is fixed line while there is equilibrium in europe.   emi currently offers its entire 200 000 download catalogue for use by both by pcs and mobile phones. mr cohen said:  it s going to be just as important to connect through 3g or wireless as it is through your pc.  we want music to be a continuum.  the seamless experience of mobiles and pc downloads is approaching  he predicted. mr babinet said the mobile phone had a number of advantages over pcs which would see it become the focus for music downloading in the future.  getting music from your pc onto a device is not an easy experience. you have to switch the pc on  load the operating system  load the program  buy the music  download the music  and then transfer the music.  all of these steps can be done in one step on a mobile phone.  he said the mobile phone s billing system would make it easier for teenagers to embrace downloads  because pre-paid cards were already accepted by the age group.   certainly  we have a problem with battery  memory and bandwidth. but it s not about the current status. it s about the potential.  you will have all of your music on your mobile.  all three men said that the social interaction of mobile music would drive the market. mr cohen said:  i can send you the song and it is either billed to me or i send it to you and if you listen to it and want to keep  it is billed to you.  it s a social phenomenon.  mr babinet said:  today you use radio and tv to discover music. tomorrow you will discover and consume music via one device - the mobile.',\n",
              "        'dame julie pops in to see poppins mary poppins star dame julie andrews watched the hit stage version of her classic film at a charity performance in london s west end.  it was the first time dame julie  who shot to fame as the nanny in the 1964 disney movie  had seen the musical  staged at the prince edward theatre. she watched laura michelle kelly  23  reprise the role on stage. the show has been one of the west end s hottest tickets since opening in december  winning two olivier awards. kelly was named best musical actress at last month s ceremony and the musical also won best choreography.  but kelly said she was  very nervous  about meeting dame julie because she was  my absolute hero . the gala performance saw dame julie  69  return to the theatre where she had her first starring role in a performance of humpty dumpty in 1948. the mary poppins musical has been masterminded by theatre impresario sir cameron mackintosh and directed by richard eyre with choreography by matthew bourne. sir cameron said he hoped the production  which cost £9m to bring to the stage  was a blend of the sweet-natured film and the original book by pl travers. proceeds from thursday s show will go to charities including absolute return for kids (ark)  international relief agency operation usa and drama school lamda.',\n",
              "        'tech helps disabled speed demons an organisation has been launched to encourage disabled people to get involved in all aspects of motorsport  which is now increasingly possible thanks to technological innovations.  the motorsport endeavour club left the starting grid yesterday at the autosport international 2005 show at birmingham s nec  with several technologies to adapt vehicles on display.  motorcycle racer  roy tansley  from derby developed his electronic sequential gear changer following an accident which resulted in part of his left leg being amputated.  i needed to find a way of changing gear and generally you do that with your left leg   mr tansley told the bbc news website.  in simple terms  i needed to invent a left foot - initially it was quite a heath robinson device.  mr tansley had to argue his case to be allowed to continue competing with motorcycle racing s governing body  the autocycle union.  at that time they wouldn t let any amputee race at all  but eventually they told me i could have a licence as long as i raced sidecars.  mr tansley s invention  the pro-shift  is designed to work with hewland gearboxes which are widely used in motorcycle racing. in addition to helping disabled riders to compete  mr tansley reckons that the pro-shift saves at least 20 seconds per lap when he competes in the isle of man tt. as a result  there has been considerable interest in the product from other riders keen to improve their performance.  i m not prejudiced  i ll sell to able-bodied people if i have to!  he joked.  another exhibit on the motorsport endeavour stand is a subaru impreza rally car  adapted to accommodate a variety of disabilities. the vehicle belongs to pararallying  the world s only rally school for disabled drivers which is based in lincolnshire.   we use the latest technology supplied by an italian company   said rally driver dave hawkins who runs the company.  the cars have electronic throttles  electronic brakes  electronic clutches - we ve yet to turn anybody away.  mr hawkins - a paraplegic himself - says his customers have included right or left arm amputees  quadriplegics  people who have had strokes and a woman who had had all four limbs amputated. pararallying uses a vauxhall astra gsi with an automatic gearbox and manual subaru imprezas. the car on display is fitted with a  duck clutch  - a switch on the gear stick used instead of the clutch pedal. it also has a second ring behind the steering wheel to operate the throttle and a hand operated brake bar.  when joy rainey started competing in motorsport in 1974 she was continuing the family tradition - her father  murray  is a former australian formula 3 champion.  and it was rainey senior who modified a sports racer to accommodate his daughter s small stature so that she could take part in hill climbs. she uses an ordinary road car by putting extensions on the pedals  a cushion behind her back and raising the seat.  but in a competition car you have to have everything right or you ll lose the balance of the car   she said.  i bring everything back to me - steering wheel  steering column  gear lever and pedals.  when she recently took part in the london to sydney marathon she shared the driving with her partner  trevor  who now does the engineering work. he designed a system for their morris minor so that the adaptations could be totally removed in under a minute. the motorsport endeavour club is hoping that putting such technologies on display will result in more disabled people becoming involved in all areas of the sport and at every level.',\n",
              "        'collins appeals against drugs ban sprinter michelle collins has lodged an appeal against her eight-year doping ban with the north american court of arbitration for sport (cas).  the 33-year-old received the ban last month as a result of her connection to the federal inquiry into the balco doping scandal. she is the first athlete to be banned without a positive drugs test or an admission of drugs use. cas has said that a ruling is normally given within four months of an appeal. collins was suspended by the us anti-doping agency based on patterns observed in her blood and urine tests as well as evidence in the balco investigation. as well as being hit with the ban  collins was stripped of her 2003 world and us indoor 200m titles. the san francisco-based balco laboratory is at the centre of the scandal which has rocked the sport. the company has been accused of distributing illegal performance-enhancing drugs to elite athletes.'],\n",
              "       dtype=object), array([2, 3, 1, 2, 1, 1, 4, 1, 4, 3]))"
            ]
          },
          "metadata": {},
          "execution_count": 25
        }
      ]
    },
    {
      "cell_type": "code",
      "metadata": {
        "id": "0ZLS3J1lW_bc"
      },
      "source": [
        "logging.warning(\"Ragged Tensors for train and val sentences\")"
      ],
      "execution_count": 26,
      "outputs": []
    },
    {
      "cell_type": "code",
      "metadata": {
        "id": "2TXnQgPIYtUO"
      },
      "source": [
        "train_sentences_r = tf.ragged.constant(train_sentences)\n",
        "val_sentences_r = tf.ragged.constant(val_sentences)"
      ],
      "execution_count": 27,
      "outputs": []
    },
    {
      "cell_type": "code",
      "metadata": {
        "id": "xj5-ZJSPBn8Y"
      },
      "source": [
        "logging.warning(\"Create a baseline model\")"
      ],
      "execution_count": 28,
      "outputs": []
    },
    {
      "cell_type": "code",
      "metadata": {
        "colab": {
          "base_uri": "https://localhost:8080/"
        },
        "id": "jIdi021bBiyR",
        "outputId": "8ca27edb-811a-48af-e430-634ff54e911f"
      },
      "source": [
        "# Create a baseline model\n",
        "from sklearn.feature_extraction.text import TfidfVectorizer\n",
        "from sklearn.naive_bayes import MultinomialNB\n",
        "from sklearn.pipeline import Pipeline\n",
        "\n",
        "# Set random seed\n",
        "tf.random.set_seed(52)\n",
        "\n",
        "# Create a pipeline\n",
        "model_0 = Pipeline([\n",
        "    (\"tf-idf\", TfidfVectorizer()),\n",
        "    (\"clf\", MultinomialNB())\n",
        "])\n",
        "\n",
        "# Fit the pipeline to the training data\n",
        "model_0.fit(train_sentences,train_labels)"
      ],
      "execution_count": 29,
      "outputs": [
        {
          "output_type": "execute_result",
          "data": {
            "text/plain": [
              "Pipeline(steps=[('tf-idf', TfidfVectorizer()), ('clf', MultinomialNB())])"
            ]
          },
          "metadata": {},
          "execution_count": 29
        }
      ]
    },
    {
      "cell_type": "code",
      "metadata": {
        "colab": {
          "base_uri": "https://localhost:8080/"
        },
        "id": "MclnfnvoBsDI",
        "outputId": "70e51838-aa5a-4d6d-824c-e74211d8f7f9"
      },
      "source": [
        "logging.warning(\"Evaluate baseline model\")\n",
        "model_0.score(val_sentences, val_labels)"
      ],
      "execution_count": 30,
      "outputs": [
        {
          "output_type": "execute_result",
          "data": {
            "text/plain": [
              "0.9362416107382551"
            ]
          },
          "metadata": {},
          "execution_count": 30
        }
      ]
    },
    {
      "cell_type": "code",
      "metadata": {
        "id": "R7LAvi9oBw-p"
      },
      "source": [
        "logging.warning(\"Make predictions\")"
      ],
      "execution_count": 31,
      "outputs": []
    },
    {
      "cell_type": "code",
      "metadata": {
        "colab": {
          "base_uri": "https://localhost:8080/"
        },
        "id": "ZHkGQI-oB2qh",
        "outputId": "82182898-63a5-4b4a-961b-e56b1e7058b6"
      },
      "source": [
        "# Make prediction\n",
        "baseline_predictions = model_0.predict(val_sentences)\n",
        "baseline_predictions"
      ],
      "execution_count": 32,
      "outputs": [
        {
          "output_type": "execute_result",
          "data": {
            "text/plain": [
              "array([1, 1, 3, 2, 2, 4, 4, 2, 3, 3, 1, 3, 3, 3, 3, 1, 2, 3, 0, 1, 3, 0,\n",
              "       0, 4, 3, 3, 1, 2, 3, 3, 2, 3, 1, 0, 0, 0, 2, 0, 0, 1, 3, 1, 4, 1,\n",
              "       4, 3, 3, 0, 3, 3, 0, 0, 0, 1, 3, 0, 3, 4, 2, 3, 3, 2, 0, 0, 4, 2,\n",
              "       4, 3, 2, 0, 2, 4, 3, 3, 4, 2, 3, 0, 1, 0, 3, 2, 0, 4, 2, 3, 0, 0,\n",
              "       0, 1, 3, 1, 3, 4, 4, 0, 4, 3, 2, 0, 0, 2, 3, 1, 1, 0, 2, 1, 1, 4,\n",
              "       3, 2, 3, 3, 4, 0, 1, 4, 0, 1, 4, 0, 0, 1, 1, 4, 3, 2, 3, 0, 2, 3,\n",
              "       3, 2, 2, 0, 4, 3, 4, 4, 3, 3, 4, 1, 4, 3, 3, 0, 3, 1, 3, 4, 3, 3,\n",
              "       1, 1, 0, 1, 2, 1, 1, 2, 3, 2, 0, 2, 4, 2, 0, 0, 2, 0, 3, 2, 4, 1,\n",
              "       0, 4, 0, 0, 4, 4, 4, 2, 2, 3, 4, 4, 4, 0, 1, 0, 2, 0, 1, 0, 0, 0,\n",
              "       2, 3, 0, 3, 2, 4, 0, 0, 4, 2, 0, 0, 3, 4, 2, 2, 3, 0, 0, 1, 4, 4,\n",
              "       0, 3, 1, 4, 1, 0, 3, 2, 2, 0, 4, 1, 2, 1, 4, 2, 3, 1, 2, 3, 0, 0,\n",
              "       3, 4, 3, 1, 4, 4, 3, 3, 3, 1, 4, 3, 1, 1, 4, 3, 0, 4, 0, 0, 2, 2,\n",
              "       0, 2, 2, 4, 0, 0, 3, 3, 4, 2, 3, 3, 4, 3, 0, 0, 2, 0, 0, 2, 0, 3,\n",
              "       1, 3, 1, 0, 3, 3, 2, 0, 0, 0, 4, 2])"
            ]
          },
          "metadata": {},
          "execution_count": 32
        }
      ]
    },
    {
      "cell_type": "code",
      "metadata": {
        "colab": {
          "base_uri": "https://localhost:8080/"
        },
        "id": "ivCwKyVxLaAb",
        "outputId": "20de8564-7505-43a1-f183-340698eb801a"
      },
      "source": [
        "sample_text = [\"Australia won the T20 Worldcup 2021 beating New Zealand by 8 wickets\"]\n",
        "model_0.predict(sample_text)"
      ],
      "execution_count": 33,
      "outputs": [
        {
          "output_type": "execute_result",
          "data": {
            "text/plain": [
              "array([3])"
            ]
          },
          "metadata": {},
          "execution_count": 33
        }
      ]
    },
    {
      "cell_type": "code",
      "metadata": {
        "colab": {
          "base_uri": "https://localhost:8080/"
        },
        "id": "josANjdVLaAc",
        "outputId": "b25d697f-5fc4-4d89-887a-44c2f652b741"
      },
      "source": [
        "sample_text = [\"United States President Joe Biden and China’s President Xi Jinping on Tuesday agreed on the need to “responsibly” manage a competitive relationship but did not arrive at any significant breakthrough on any of the thorny issues that have led to increasingly confrontational ties.\"]\n",
        "model_0.predict(sample_text)"
      ],
      "execution_count": 34,
      "outputs": [
        {
          "output_type": "execute_result",
          "data": {
            "text/plain": [
              "array([0])"
            ]
          },
          "metadata": {},
          "execution_count": 34
        }
      ]
    },
    {
      "cell_type": "code",
      "metadata": {
        "colab": {
          "base_uri": "https://localhost:8080/"
        },
        "id": "gDwYZnm8LaAo",
        "outputId": "d28d4e6c-3e21-408d-f0bb-a969f71cd68e"
      },
      "source": [
        "sample_text = [\"YSRCP party leading in the Nellor Elections\"]\n",
        "model_0.predict(sample_text)"
      ],
      "execution_count": 35,
      "outputs": [
        {
          "output_type": "execute_result",
          "data": {
            "text/plain": [
              "array([2])"
            ]
          },
          "metadata": {},
          "execution_count": 35
        }
      ]
    },
    {
      "cell_type": "code",
      "metadata": {
        "colab": {
          "base_uri": "https://localhost:8080/"
        },
        "id": "H03vAscLLaAn",
        "outputId": "4370a5a7-5e77-42e8-e39a-0ebb42d605ac"
      },
      "source": [
        "sample_text = [\"\"\"\n",
        "\"Support To Terrorists State Policy\": India Slams Pak At UN Over Kashmir\n",
        "\n",
        "\"\"\"]\n",
        "model_0.predict(sample_text)"
      ],
      "execution_count": 36,
      "outputs": [
        {
          "output_type": "execute_result",
          "data": {
            "text/plain": [
              "array([0])"
            ]
          },
          "metadata": {},
          "execution_count": 36
        }
      ]
    },
    {
      "cell_type": "code",
      "metadata": {
        "colab": {
          "base_uri": "https://localhost:8080/"
        },
        "id": "m4YotT1TLaAo",
        "outputId": "4b87b454-2311-4225-ec74-ef74189bdae7"
      },
      "source": [
        "sample_text = [\"Spider-Man No Way Home trailer: Tom Holland’s MCU film is the cinematic event of the year; meet Sinister Six\"]\n",
        "model_0.predict(sample_text)"
      ],
      "execution_count": 37,
      "outputs": [
        {
          "output_type": "execute_result",
          "data": {
            "text/plain": [
              "array([1])"
            ]
          },
          "metadata": {},
          "execution_count": 37
        }
      ]
    },
    {
      "cell_type": "code",
      "metadata": {
        "colab": {
          "base_uri": "https://localhost:8080/"
        },
        "id": "TB5KOtW4LaAq",
        "outputId": "42410e8e-6550-40d7-f8ac-49ef479aef9f"
      },
      "source": [
        "sample_text = [\"Google: US technology giant to invest $740m in Australia\"]\n",
        "model_0.predict(sample_text)"
      ],
      "execution_count": 38,
      "outputs": [
        {
          "output_type": "execute_result",
          "data": {
            "text/plain": [
              "array([4])"
            ]
          },
          "metadata": {},
          "execution_count": 38
        }
      ]
    },
    {
      "cell_type": "code",
      "metadata": {
        "id": "AHOYxy-eO71L"
      },
      "source": [
        "# Function to evaluate: accuracy, precision, recall, f1-score\n",
        "from sklearn.metrics import accuracy_score, precision_recall_fscore_support\n",
        "\n",
        "def evaluation_metrics(y_true, y_pred):\n",
        "    \n",
        "    \"\"\"\n",
        "    Calculates model accuracy, precision, recall and f1 score of a binary classification model.\n",
        "\n",
        "    Args:\n",
        "    -----\n",
        "    y_true = true labels in the form of a 1D array\n",
        "    y_pred = predicted labels in the form of a 1D array\n",
        "\n",
        "    Returns a dictionary of accuracy, precision, recall, f1-score.\n",
        "    \n",
        "    \"\"\"\n",
        "    \n",
        "    # Calculate model accuracy\n",
        "    model_accuracy = accuracy_score(y_true,y_pred)\n",
        "    \n",
        "    # Calculate model precision, recall and f1 score using \"weighted\" average\n",
        "    model_precision, model_recall, model_f1, _ = precision_recall_fscore_support(y_true, y_pred, average=\"weighted\")\n",
        "    model_results = {\"accuracy\": model_accuracy,\n",
        "                  \"precision\": model_precision,\n",
        "                  \"recall\": model_recall,\n",
        "                  \"f1\": model_f1}\n",
        "    return model_results"
      ],
      "execution_count": 39,
      "outputs": []
    },
    {
      "cell_type": "code",
      "metadata": {
        "colab": {
          "base_uri": "https://localhost:8080/"
        },
        "id": "2vN9qQZpO71L",
        "outputId": "6eb55e4d-b0f6-44bf-acf5-a045eb560fbb"
      },
      "source": [
        "logging.warning(\"Evaluation metrics using baseline model \")\n",
        "baseline_results = evaluation_metrics(val_labels,baseline_predictions)\n",
        "baseline_results"
      ],
      "execution_count": 40,
      "outputs": [
        {
          "output_type": "execute_result",
          "data": {
            "text/plain": [
              "{'accuracy': 0.9362416107382551,\n",
              " 'f1': 0.9355904724579887,\n",
              " 'precision': 0.940138821673615,\n",
              " 'recall': 0.9362416107382551}"
            ]
          },
          "metadata": {},
          "execution_count": 40
        }
      ]
    },
    {
      "cell_type": "code",
      "metadata": {
        "id": "OzXYhYNBTu0L"
      },
      "source": [
        "# Preparing our data for deep sequence models"
      ],
      "execution_count": 41,
      "outputs": []
    },
    {
      "cell_type": "code",
      "metadata": {
        "colab": {
          "base_uri": "https://localhost:8080/"
        },
        "id": "KdfRPhTeTzeC",
        "outputId": "952d6b35-7809-458a-e169-8aa9c2b0f496"
      },
      "source": [
        "sent_lens = [len(sentence.split()) for sentence in train_sentences ]\n",
        "avg_sent_len = np.mean(sent_lens)\n",
        "avg_sent_len"
      ],
      "execution_count": 42,
      "outputs": [
        {
          "output_type": "execute_result",
          "data": {
            "text/plain": [
              "381.6090604026846"
            ]
          },
          "metadata": {},
          "execution_count": 42
        }
      ]
    },
    {
      "cell_type": "code",
      "metadata": {
        "colab": {
          "base_uri": "https://localhost:8080/"
        },
        "id": "z_Q7LzjULaAV",
        "outputId": "83e4db81-6619-4d0e-8370-bab37d9cde3e"
      },
      "source": [
        "logging.warning(\"-\"*100)\n",
        "logging.warning('Converting Text Into Numbers For Tokenization')\n",
        "from tensorflow.keras.layers.experimental.preprocessing import TextVectorization\n",
        "\n",
        "# max_length\n",
        "max_length = round(sum([len(i.split()) for i in train_sentences])/len(train_sentences))\n",
        "max_length"
      ],
      "execution_count": 43,
      "outputs": [
        {
          "output_type": "execute_result",
          "data": {
            "text/plain": [
              "382"
            ]
          },
          "metadata": {},
          "execution_count": 43
        }
      ]
    },
    {
      "cell_type": "code",
      "metadata": {
        "colab": {
          "base_uri": "https://localhost:8080/",
          "height": 265
        },
        "id": "vSkYfLZfUGA3",
        "outputId": "be7cd6f2-8c20-41a8-baca-6821eaafd52d"
      },
      "source": [
        "plt.hist(sent_lens, bins=7);"
      ],
      "execution_count": 44,
      "outputs": [
        {
          "output_type": "display_data",
          "data": {
            "image/png": "[encoded data removed]",
            "text/plain": [
              "<Figure size 432x288 with 1 Axes>"
            ]
          },
          "metadata": {
            "needs_background": "light"
          }
        }
      ]
    },
    {
      "cell_type": "code",
      "metadata": {
        "colab": {
          "base_uri": "https://localhost:8080/"
        },
        "id": "_KCFzjWWUaWe",
        "outputId": "aad90632-25f8-4f36-dbe1-96ffcc993db6"
      },
      "source": [
        "# How long of sentence covers 95% of the lengths?\n",
        "output_seq_len = int(np.percentile(sent_lens, 95))\n",
        "output_seq_len"
      ],
      "execution_count": 45,
      "outputs": [
        {
          "output_type": "execute_result",
          "data": {
            "text/plain": [
              "714"
            ]
          },
          "metadata": {},
          "execution_count": 45
        }
      ]
    },
    {
      "cell_type": "code",
      "metadata": {
        "colab": {
          "base_uri": "https://localhost:8080/"
        },
        "id": "aLSgi56jUqMW",
        "outputId": "28d04cec-f994-4b04-ccd6-2dce1706d126"
      },
      "source": [
        "max(sent_lens)"
      ],
      "execution_count": 46,
      "outputs": [
        {
          "output_type": "execute_result",
          "data": {
            "text/plain": [
              "3345"
            ]
          },
          "metadata": {},
          "execution_count": 46
        }
      ]
    },
    {
      "cell_type": "code",
      "metadata": {
        "id": "D61b1Ir5LaAV"
      },
      "source": [
        "max_tokens = 100000"
      ],
      "execution_count": 47,
      "outputs": []
    },
    {
      "cell_type": "code",
      "metadata": {
        "id": "l9EAi6tYLaAW"
      },
      "source": [
        "text_vectorizer = TextVectorization(max_tokens=max_tokens,\n",
        "                                    output_mode=\"int\",\n",
        "                                    output_sequence_length=output_seq_len)"
      ],
      "execution_count": 48,
      "outputs": []
    },
    {
      "cell_type": "code",
      "metadata": {
        "id": "3w-quV1ELaAW"
      },
      "source": [
        "text_vectorizer.adapt(train_sentences)\n"
      ],
      "execution_count": 49,
      "outputs": []
    },
    {
      "cell_type": "code",
      "metadata": {
        "colab": {
          "base_uri": "https://localhost:8080/"
        },
        "id": "h-N-xwpVLaAW",
        "outputId": "1c2d047a-f4bb-4e4c-f70e-1e4bffe186fd"
      },
      "source": [
        "sample_sentence = \"There's a flood in my street!\"\n",
        "text_vectorizer([sample_sentence])"
      ],
      "execution_count": 50,
      "outputs": [
        {
          "output_type": "execute_result",
          "data": {
            "text/plain": [
              "<tf.Tensor: shape=(1, 714), dtype=int64, numpy=\n",
              "array([[    1,     6, 20993,     7,   135,   668,     0,     0,     0,\n",
              "            0,     0,     0,     0,     0,     0,     0,     0,     0,\n",
              "            0,     0,     0,     0,     0,     0,     0,     0,     0,\n",
              "            0,     0,     0,     0,     0,     0,     0,     0,     0,\n",
              "            0,     0,     0,     0,     0,     0,     0,     0,     0,\n",
              "            0,     0,     0,     0,     0,     0,     0,     0,     0,\n",
              "            0,     0,     0,     0,     0,     0,     0,     0,     0,\n",
              "            0,     0,     0,     0,     0,     0,     0,     0,     0,\n",
              "            0,     0,     0,     0,     0,     0,     0,     0,     0,\n",
              "            0,     0,     0,     0,     0,     0,     0,     0,     0,\n",
              "            0,     0,     0,     0,     0,     0,     0,     0,     0,\n",
              "            0,     0,     0,     0,     0,     0,     0,     0,     0,\n",
              "            0,     0,     0,     0,     0,     0,     0,     0,     0,\n",
              "            0,     0,     0,     0,     0,     0,     0,     0,     0,\n",
              "            0,     0,     0,     0,     0,     0,     0,     0,     0,\n",
              "            0,     0,     0,     0,     0,     0,     0,     0,     0,\n",
              "            0,     0,     0,     0,     0,     0,     0,     0,     0,\n",
              "            0,     0,     0,     0,     0,     0,     0,     0,     0,\n",
              "            0,     0,     0,     0,     0,     0,     0,     0,     0,\n",
              "            0,     0,     0,     0,     0,     0,     0,     0,     0,\n",
              "            0,     0,     0,     0,     0,     0,     0,     0,     0,\n",
              "            0,     0,     0,     0,     0,     0,     0,     0,     0,\n",
              "            0,     0,     0,     0,     0,     0,     0,     0,     0,\n",
              "            0,     0,     0,     0,     0,     0,     0,     0,     0,\n",
              "            0,     0,     0,     0,     0,     0,     0,     0,     0,\n",
              "            0,     0,     0,     0,     0,     0,     0,     0,     0,\n",
              "            0,     0,     0,     0,     0,     0,     0,     0,     0,\n",
              "            0,     0,     0,     0,     0,     0,     0,     0,     0,\n",
              "            0,     0,     0,     0,     0,     0,     0,     0,     0,\n",
              "            0,     0,     0,     0,     0,     0,     0,     0,     0,\n",
              "            0,     0,     0,     0,     0,     0,     0,     0,     0,\n",
              "            0,     0,     0,     0,     0,     0,     0,     0,     0,\n",
              "            0,     0,     0,     0,     0,     0,     0,     0,     0,\n",
              "            0,     0,     0,     0,     0,     0,     0,     0,     0,\n",
              "            0,     0,     0,     0,     0,     0,     0,     0,     0,\n",
              "            0,     0,     0,     0,     0,     0,     0,     0,     0,\n",
              "            0,     0,     0,     0,     0,     0,     0,     0,     0,\n",
              "            0,     0,     0,     0,     0,     0,     0,     0,     0,\n",
              "            0,     0,     0,     0,     0,     0,     0,     0,     0,\n",
              "            0,     0,     0,     0,     0,     0,     0,     0,     0,\n",
              "            0,     0,     0,     0,     0,     0,     0,     0,     0,\n",
              "            0,     0,     0,     0,     0,     0,     0,     0,     0,\n",
              "            0,     0,     0,     0,     0,     0,     0,     0,     0,\n",
              "            0,     0,     0,     0,     0,     0,     0,     0,     0,\n",
              "            0,     0,     0,     0,     0,     0,     0,     0,     0,\n",
              "            0,     0,     0,     0,     0,     0,     0,     0,     0,\n",
              "            0,     0,     0,     0,     0,     0,     0,     0,     0,\n",
              "            0,     0,     0,     0,     0,     0,     0,     0,     0,\n",
              "            0,     0,     0,     0,     0,     0,     0,     0,     0,\n",
              "            0,     0,     0,     0,     0,     0,     0,     0,     0,\n",
              "            0,     0,     0,     0,     0,     0,     0,     0,     0,\n",
              "            0,     0,     0,     0,     0,     0,     0,     0,     0,\n",
              "            0,     0,     0,     0,     0,     0,     0,     0,     0,\n",
              "            0,     0,     0,     0,     0,     0,     0,     0,     0,\n",
              "            0,     0,     0,     0,     0,     0,     0,     0,     0,\n",
              "            0,     0,     0,     0,     0,     0,     0,     0,     0,\n",
              "            0,     0,     0,     0,     0,     0,     0,     0,     0,\n",
              "            0,     0,     0,     0,     0,     0,     0,     0,     0,\n",
              "            0,     0,     0,     0,     0,     0,     0,     0,     0,\n",
              "            0,     0,     0,     0,     0,     0,     0,     0,     0,\n",
              "            0,     0,     0,     0,     0,     0,     0,     0,     0,\n",
              "            0,     0,     0,     0,     0,     0,     0,     0,     0,\n",
              "            0,     0,     0,     0,     0,     0,     0,     0,     0,\n",
              "            0,     0,     0,     0,     0,     0,     0,     0,     0,\n",
              "            0,     0,     0,     0,     0,     0,     0,     0,     0,\n",
              "            0,     0,     0,     0,     0,     0,     0,     0,     0,\n",
              "            0,     0,     0,     0,     0,     0,     0,     0,     0,\n",
              "            0,     0,     0,     0,     0,     0,     0,     0,     0,\n",
              "            0,     0,     0,     0,     0,     0,     0,     0,     0,\n",
              "            0,     0,     0,     0,     0,     0,     0,     0,     0,\n",
              "            0,     0,     0,     0,     0,     0,     0,     0,     0,\n",
              "            0,     0,     0,     0,     0,     0,     0,     0,     0,\n",
              "            0,     0,     0,     0,     0,     0,     0,     0,     0,\n",
              "            0,     0,     0,     0,     0,     0,     0,     0,     0,\n",
              "            0,     0,     0,     0,     0,     0,     0,     0,     0,\n",
              "            0,     0,     0,     0,     0,     0,     0,     0,     0,\n",
              "            0,     0,     0,     0,     0,     0,     0,     0,     0,\n",
              "            0,     0,     0,     0,     0,     0,     0,     0,     0,\n",
              "            0,     0,     0,     0,     0,     0,     0,     0,     0,\n",
              "            0,     0,     0]])>"
            ]
          },
          "metadata": {},
          "execution_count": 50
        }
      ]
    },
    {
      "cell_type": "code",
      "metadata": {
        "colab": {
          "base_uri": "https://localhost:8080/"
        },
        "id": "8y5ir5h7LaAW",
        "outputId": "a06d8da2-7a9f-4f36-d30d-ffc5867a9a3b"
      },
      "source": [
        "# Choose a random sentence from the training dataset and tokenize it\n",
        "import random\n",
        "random_sentence = random.choice(train_sentences_r)\n",
        "print(f\"Original text:\\n{random_sentence}\\\n",
        "      \\n\\nVectorized version:\")\n",
        "text_vectorizer([random_sentence])"
      ],
      "execution_count": 51,
      "outputs": [
        {
          "output_type": "stream",
          "name": "stdout",
          "text": [
            "Original text:\n",
            "b'hobbit picture  four years away  lord of the rings director peter jackson has said that it will be up to four years before he starts work on a film version of the hobbit.  the oscar winner said on a visit to sydney there was a  desire  to make it  but not before lengthy negotiations.  i think it s gonna be a lot of lawyers sitting in a room trying to thrash out a deal before it will ever happen   said the new zealander. the rights to jrr tolkien s book are split between two major film studios. jackson  who is currently filming a remake of hollywood classic king kong  said he thought that the sale of mgm studios to the sony corporation would cast further uncertainty on the project. the 43-year-old was in the australian city to visit a lord of the rings exhibition  which has attracted 140 000 visitors since it opened in december.  the film-maker recently sued film company new line cinema for undisclosed damages over alleged withheld profits and lost revenue from the first part of the middle earth trilogy. the fellowship of the ring from 2001 went on to make worldwide profits of $291 million (\\xc2\\xa3152 million). jackson is thought to have secured the most lucrative film directing deal in history to remake king kong  which is currently in production in wellington. the picture  which stars naomi watts and oscar winner adrien brody  is due to be released in december. jackson has also committed to making a film version of lovely bones  based on the best-selling book by alice sebold.'      \n",
            "\n",
            "Vectorized version:\n"
          ]
        },
        {
          "output_type": "execute_result",
          "data": {
            "text/plain": [
              "<tf.Tensor: shape=(1, 714), dtype=int64, numpy=\n",
              "array([[13112,  1095,   206,    81,   301,   444,     4,     2,  3212,\n",
              "          200,  1048,  2240,    20,    14,    11,    12,    23,    17,\n",
              "           48,     3,   206,    81,    92,    16,  2561,   143,    13,\n",
              "            6,    82,   565,     4,     2, 13112,     2,   772,   806,\n",
              "           14,    13,     6,  1176,     3,  1511,    52,    15,     6,\n",
              "         1846,     3,    88,    12,    25,    29,    92,  4399,  2140,\n",
              "           28,   171,    12,     8,  7306,    17,     6,   342,     4,\n",
              "         1988,  4651,     7,     6,  1707,   616,     3, 15962,    56,\n",
              "            6,   212,    92,    12,    23,   449,  1344,    14,     2,\n",
              "           47,  7730,     2,   424,     3, 12871,  7841,     8,   529,\n",
              "           26,  2450,   157,    67,   395,    82,  1592,  2240,    45,\n",
              "           10,   420,  6454,     6,  4695,     4,   850,  2519,  1206,\n",
              "         2396,    14,    16,   405,    11,     2,   356,     4,  7128,\n",
              "         1592,     3,     2,   674,  3002,    39,  2522,   402,  3571,\n",
              "           13,     2,   699,     2, 14597,    15,     7,     2,   610,\n",
              "          742,     3,  1176,     6,   444,     4,     2,  3212,  2737,\n",
              "           36,    20,  3335,  6719,   103,  1278,   140,    12,  1556,\n",
              "            7,   337,     2,  3280,   603,  3044,    82,   141,    47,\n",
              "          392,  1499,     9,  5451,  1895,    62,  1698,  9120,   619,\n",
              "            5,   296,  1448,    27,     2,    64,   163,     4,     2,\n",
              "         1305,  4165,  6024,     2, 10325,     4,     2,  3787,    27,\n",
              "          601,   308,    13,     3,    88,  1380,   619,     4, 24470,\n",
              "          148, 14955,   148,  2240,    10,   405,     3,    21,  2285,\n",
              "            2,   111,  3845,    82,  4471,   212,     7,   738,     3,\n",
              "         4695,  1206,  2396,    36,    10,   420,     7,   593,     7,\n",
              "         7762,     2,  1095,    36,   618, 18732,  9145,     5,   772,\n",
              "          806, 23899, 22975,    10,   297,     3,    17,   460,     7,\n",
              "          337,  2240,    20,    44,  1579,     3,   321,     6,    82,\n",
              "          565,     4,  8345,  5898,   576,    13,     2,  3545,   529,\n",
              "           24, 10894, 11812,     0,     0,     0,     0,     0,     0,\n",
              "            0,     0,     0,     0,     0,     0,     0,     0,     0,\n",
              "            0,     0,     0,     0,     0,     0,     0,     0,     0,\n",
              "            0,     0,     0,     0,     0,     0,     0,     0,     0,\n",
              "            0,     0,     0,     0,     0,     0,     0,     0,     0,\n",
              "            0,     0,     0,     0,     0,     0,     0,     0,     0,\n",
              "            0,     0,     0,     0,     0,     0,     0,     0,     0,\n",
              "            0,     0,     0,     0,     0,     0,     0,     0,     0,\n",
              "            0,     0,     0,     0,     0,     0,     0,     0,     0,\n",
              "            0,     0,     0,     0,     0,     0,     0,     0,     0,\n",
              "            0,     0,     0,     0,     0,     0,     0,     0,     0,\n",
              "            0,     0,     0,     0,     0,     0,     0,     0,     0,\n",
              "            0,     0,     0,     0,     0,     0,     0,     0,     0,\n",
              "            0,     0,     0,     0,     0,     0,     0,     0,     0,\n",
              "            0,     0,     0,     0,     0,     0,     0,     0,     0,\n",
              "            0,     0,     0,     0,     0,     0,     0,     0,     0,\n",
              "            0,     0,     0,     0,     0,     0,     0,     0,     0,\n",
              "            0,     0,     0,     0,     0,     0,     0,     0,     0,\n",
              "            0,     0,     0,     0,     0,     0,     0,     0,     0,\n",
              "            0,     0,     0,     0,     0,     0,     0,     0,     0,\n",
              "            0,     0,     0,     0,     0,     0,     0,     0,     0,\n",
              "            0,     0,     0,     0,     0,     0,     0,     0,     0,\n",
              "            0,     0,     0,     0,     0,     0,     0,     0,     0,\n",
              "            0,     0,     0,     0,     0,     0,     0,     0,     0,\n",
              "            0,     0,     0,     0,     0,     0,     0,     0,     0,\n",
              "            0,     0,     0,     0,     0,     0,     0,     0,     0,\n",
              "            0,     0,     0,     0,     0,     0,     0,     0,     0,\n",
              "            0,     0,     0,     0,     0,     0,     0,     0,     0,\n",
              "            0,     0,     0,     0,     0,     0,     0,     0,     0,\n",
              "            0,     0,     0,     0,     0,     0,     0,     0,     0,\n",
              "            0,     0,     0,     0,     0,     0,     0,     0,     0,\n",
              "            0,     0,     0,     0,     0,     0,     0,     0,     0,\n",
              "            0,     0,     0,     0,     0,     0,     0,     0,     0,\n",
              "            0,     0,     0,     0,     0,     0,     0,     0,     0,\n",
              "            0,     0,     0,     0,     0,     0,     0,     0,     0,\n",
              "            0,     0,     0,     0,     0,     0,     0,     0,     0,\n",
              "            0,     0,     0,     0,     0,     0,     0,     0,     0,\n",
              "            0,     0,     0,     0,     0,     0,     0,     0,     0,\n",
              "            0,     0,     0,     0,     0,     0,     0,     0,     0,\n",
              "            0,     0,     0,     0,     0,     0,     0,     0,     0,\n",
              "            0,     0,     0,     0,     0,     0,     0,     0,     0,\n",
              "            0,     0,     0,     0,     0,     0,     0,     0,     0,\n",
              "            0,     0,     0,     0,     0,     0,     0,     0,     0,\n",
              "            0,     0,     0,     0,     0,     0,     0,     0,     0,\n",
              "            0,     0,     0,     0,     0,     0,     0,     0,     0,\n",
              "            0,     0,     0,     0,     0,     0,     0,     0,     0,\n",
              "            0,     0,     0,     0,     0,     0,     0,     0,     0,\n",
              "            0,     0,     0,     0,     0,     0,     0,     0,     0,\n",
              "            0,     0,     0,     0,     0,     0,     0,     0,     0,\n",
              "            0,     0,     0,     0,     0,     0,     0,     0,     0,\n",
              "            0,     0,     0]])>"
            ]
          },
          "metadata": {},
          "execution_count": 51
        }
      ]
    },
    {
      "cell_type": "code",
      "metadata": {
        "colab": {
          "base_uri": "https://localhost:8080/"
        },
        "id": "XtFqsDwbVswH",
        "outputId": "9c42db30-5d09-4729-a6e5-b58e5f5bddee"
      },
      "source": [
        "vocab = text_vectorizer.get_vocabulary()\n",
        "len(vocab)"
      ],
      "execution_count": 52,
      "outputs": [
        {
          "output_type": "execute_result",
          "data": {
            "text/plain": [
              "24905"
            ]
          },
          "metadata": {},
          "execution_count": 52
        }
      ]
    },
    {
      "cell_type": "code",
      "metadata": {
        "id": "CpIivqA3LaAX"
      },
      "source": [
        "logging.warning('Embedding Layer')"
      ],
      "execution_count": 53,
      "outputs": []
    },
    {
      "cell_type": "code",
      "metadata": {
        "colab": {
          "base_uri": "https://localhost:8080/"
        },
        "id": "NvT05JW_LaAX",
        "outputId": "7fba5e39-4a03-4961-a7c4-5d935c1717ee"
      },
      "source": [
        "tf.random.set_seed(42)\n",
        "from tensorflow.keras import layers\n",
        "\n",
        "embedding = layers.Embedding(input_dim=len(vocab), # set input shape\n",
        "                             output_dim=128, # set size of embedding vector\n",
        "                             embeddings_initializer=\"uniform\", # default, intialize randomly\n",
        "                             mask_zero=False,\n",
        "                             name=\"embedding_1\") \n",
        "\n",
        "embedding"
      ],
      "execution_count": 54,
      "outputs": [
        {
          "output_type": "execute_result",
          "data": {
            "text/plain": [
              "<keras.layers.embeddings.Embedding at 0x7f9b80022dd0>"
            ]
          },
          "metadata": {},
          "execution_count": 54
        }
      ]
    },
    {
      "cell_type": "code",
      "metadata": {
        "colab": {
          "base_uri": "https://localhost:8080/"
        },
        "id": "o4pin9f8LaAY",
        "outputId": "c73e7232-e704-42ec-beeb-6fe669e7d5a0"
      },
      "source": [
        "# Get a random sentence from training set\n",
        "import random\n",
        "random_sentence = random.choice(train_sentences_r)\n",
        "print(f\"Original text:\\n{random_sentence}\\\n",
        "      \\n\\nTokenization : \\n{text_vectorizer([random_sentence])}\\\n",
        "      \\n\\nEmbedded version:\")\n",
        "\n",
        "# Embed the random sentence (turn it into numerical representation)\n",
        "sample_embed = embedding(text_vectorizer([random_sentence]))\n",
        "sample_embed"
      ],
      "execution_count": 55,
      "outputs": [
        {
          "output_type": "stream",
          "name": "stdout",
          "text": [
            "Original text:\n",
            "b'europe backs digital tv lifestyle how people receive their digital entertainment in the future could change  following the launch of an ambitious european project.  in nice last week  the european commission announced its networked & electronic media (nem) initiative. its broad scope stretches from the way media is created  through each of the stages of its distribution  to its playback. the commission wants people to be able to locate the content they desire and have it delivered seamlessly  when on the move  at home or at work  no matter who supplies the devices  network  content  or content protection scheme. more than 120 experts were in nice to share the vision of interconnected future and hear pledges of support from companies such as nokia  intel  philips  alcatel  france telecom  thomson and telefonica. it might initially appear to be surprising that companies in direct competition are keen to work together. but again and again  speakers stated they could not see incompatible  stand-alone solutions working. a long-term strategy for the evolution and convergence of technologies and services would be required.  the european commission is being pragmatic in its approach. they have identified that many groups have defined the forms of digital media in the areas that nem encompasses. the nem approach is to take a serious look at what is available and what is in the pipeline  pick out the best  bring them together and identify where the gaps are. where it finds holes  it will develop standards to fill them. what is significant is that such a large and powerful organisation has stated its desire for digital formats to be open to all and work on any gadget. this is bound to please  if not surprise  many individuals and user organisations who feel that the wishes of the holder of rights to content are normally considered over and above those of the consumer. many feel that the most difficult and challenging area for the commission will be to identify a solution for different digital rights management (drm) schemes. currently drm solutions are incompatible  locking certain types of purchased content  making them unplayable on all platforms. with the potential of having a percentage of every media transaction that takes place globally  the prize for being the supplier of the world s dominant drm scheme is huge. although entertainment is an obvious first step  it will encompass the remote provisions of healthcare  energy efficiency and control of the smart home. the 10-year plan brings together the work of many currently running research projects that the ec has been funding for a number of years.  simon perry is the editor of the digital lifestyles website  which covers the impact of technology on media'      \n",
            "\n",
            "Tokenization : \n",
            "[[  223  2646   233   217  3849   136    46  1364    37   233   929     7\n",
            "      2   265    57   413   393     2   711     4    33  4951   172   699\n",
            "      7  2704    66   145     2   172   633   476    41  9830  1607   302\n",
            "   9835  2093    41  6630  4034  6862    27     2   116   302    10   946\n",
            "    160   400     4     2  3383     4    41  2252     3    41  6207     2\n",
            "    633   592    46     3    17   285     3 12728     2   553    32  1846\n",
            "      5    21    12  2003  7997    63    13     2   267    22   125    58\n",
            "     22   143    87  1262    45  2794     2   792   606   553    58   553\n",
            "   1132  1299    42    60  3027  1287    43     7  2704     3   455     2\n",
            "   2207     4 19903   265     5  2097  3227     4   376    27   238    96\n",
            "     19  2584  2241  7038 14443   232  5015  6826     5 16036    12   456\n",
            "   1456  1246     3    17  4293    11   238     7  1575   596    26  1099\n",
            "      3   143   666    25   341     5   341  4644  4631    32    57    29\n",
            "    186  7244 16387  3201   380     6  1638  1512     9     2  4831     5\n",
            "  10573     4  1043     5   192    39    17  2462     2   172   633    10\n",
            "     97 12191     7    41  1271    32    21  4125    11   101   960    21\n",
            "   8732     2  3678     4   233   302     7     2   859    11  9835 21455\n",
            "      2  9835  1271    10     3   121     6   862   418    22    78    10\n",
            "    536     5    78    10     7     2  5115  2298    56     2    86   826\n",
            "     83   666     5  5212   178     2  8562    26   178    12  3279  5732\n",
            "     12    23  1893  1296     3  3491    83    78    10   881    10    11\n",
            "     96     6   651     5  1231  1135    20  4631    41  1846     9   233\n",
            "   3884     3    17   231     3    59     5   143    13   107   987    35\n",
            "     10  7574     3  8160    61    29  1549   101  2493     5  1914  1776\n",
            "     45   764    11     2  4983     4     2  3475     4   424     3   553\n",
            "     26  3081  1318    62     5  1438   146     4     2   542   101   764\n",
            "     11     2   111   741     5  2637  1017     9     2   633    23    17\n",
            "      3  5212     6  2073     9   483   233   424  1138  3513  4319   420\n",
            "   3513  3201    26  7244 19351  1401  3748     4  5591   553   321    83\n",
            "  11303    13    59 12236    18     2   761     4   452     6  2946     4\n",
            "    352   302  5004    11   832   216  2984     2   756     9    97     2\n",
            "   4017     4     2    68     8  5812  3513  1299    10   522   307   929\n",
            "     10    33  2139    64   788    12    23 13533     2  3216 12132     4\n",
            "   4423   963  3127     5   340     4     2  3587   125     2  7707   500\n",
            "   4524   666     2   143     4   101   420   625   344  1979    11     2\n",
            "   5272    20    40  1834     9     6   106     4    81  1625  4354    10\n",
            "      2  1429     4     2   233  9990   451    36  5315     2   943     4\n",
            "    174    13   302     0     0     0     0     0     0     0     0     0\n",
            "      0     0     0     0     0     0     0     0     0     0     0     0\n",
            "      0     0     0     0     0     0     0     0     0     0     0     0\n",
            "      0     0     0     0     0     0     0     0     0     0     0     0\n",
            "      0     0     0     0     0     0     0     0     0     0     0     0\n",
            "      0     0     0     0     0     0     0     0     0     0     0     0\n",
            "      0     0     0     0     0     0     0     0     0     0     0     0\n",
            "      0     0     0     0     0     0     0     0     0     0     0     0\n",
            "      0     0     0     0     0     0     0     0     0     0     0     0\n",
            "      0     0     0     0     0     0     0     0     0     0     0     0\n",
            "      0     0     0     0     0     0     0     0     0     0     0     0\n",
            "      0     0     0     0     0     0     0     0     0     0     0     0\n",
            "      0     0     0     0     0     0     0     0     0     0     0     0\n",
            "      0     0     0     0     0     0     0     0     0     0     0     0\n",
            "      0     0     0     0     0     0     0     0     0     0     0     0\n",
            "      0     0     0     0     0     0     0     0     0     0     0     0\n",
            "      0     0     0     0     0     0     0     0     0     0     0     0\n",
            "      0     0     0     0     0     0     0     0     0     0     0     0\n",
            "      0     0     0     0     0     0     0     0     0     0     0     0\n",
            "      0     0     0     0     0     0     0     0     0     0     0     0\n",
            "      0     0     0     0     0     0     0     0     0     0     0     0\n",
            "      0     0     0     0     0     0     0     0     0     0     0     0\n",
            "      0     0     0     0     0     0]]      \n",
            "\n",
            "Embedded version:\n"
          ]
        },
        {
          "output_type": "execute_result",
          "data": {
            "text/plain": [
              "<tf.Tensor: shape=(1, 714, 128), dtype=float32, numpy=\n",
              "array([[[-0.0329975 ,  0.00978688, -0.04553537, ...,  0.04971104,\n",
              "          0.0137558 ,  0.04985643],\n",
              "        [ 0.03555218, -0.02307458,  0.0225423 , ...,  0.00768205,\n",
              "         -0.04725116,  0.01436228],\n",
              "        [-0.02347752, -0.01775049,  0.00492607, ..., -0.03233278,\n",
              "          0.04258275, -0.03723961],\n",
              "        ...,\n",
              "        [ 0.01645621, -0.00589932, -0.01471175, ..., -0.02511839,\n",
              "          0.00912381, -0.00024097],\n",
              "        [ 0.01645621, -0.00589932, -0.01471175, ..., -0.02511839,\n",
              "          0.00912381, -0.00024097],\n",
              "        [ 0.01645621, -0.00589932, -0.01471175, ..., -0.02511839,\n",
              "          0.00912381, -0.00024097]]], dtype=float32)>"
            ]
          },
          "metadata": {},
          "execution_count": 55
        }
      ]
    },
    {
      "cell_type": "code",
      "metadata": {
        "id": "kat3Z7naO71N"
      },
      "source": [
        "logging.warning('Create Tensorboard Callback')\n",
        "import datetime\n",
        "def create_tensorboard_callback(dir_name, experiment_name):\n",
        "    \"\"\"\n",
        "    Creates a TensorBoard callback instand to store log files.\n",
        "    \n",
        "    Stores log files with the filepath:\n",
        "    \"dir_name/experiment_name/current_datetime/\"\n",
        "    \n",
        "    Args:\n",
        "      dir_name: target directory to store TensorBoard log files\n",
        "      experiment_name: name of experiment directory (e.g. efficientnet_model_1)\n",
        "    \n",
        "    \"\"\"\n",
        "    \n",
        "    log_dir = dir_name + '/' + experiment_name + '/' + datetime.datetime.now().strftime(\"%Y%m%d-%H%M%S\")\n",
        "    tensorboard_callback = tf.keras.callbacks.TensorBoard(\n",
        "        log_dir = log_dir\n",
        "    )\n",
        "    \n",
        "    print(f\"Saving TensorBoard log files to: {log_dir}\")\n",
        "    return tensorboard_callback"
      ],
      "execution_count": 56,
      "outputs": []
    },
    {
      "cell_type": "code",
      "metadata": {
        "id": "g5R3g26DO71N"
      },
      "source": [
        "logging.warning(\"Early Stopping Callbacks\")\n",
        "early_stopping_callback = tf.keras.callbacks.EarlyStopping(monitor='val_loss',\n",
        "                                                          patience=3)"
      ],
      "execution_count": 57,
      "outputs": []
    },
    {
      "cell_type": "code",
      "metadata": {
        "id": "TYmFD8hYLaAs"
      },
      "source": [
        "logging.warning(\"-\"*100)\n",
        "logging.warning(\"Simple Dense Model\")"
      ],
      "execution_count": 58,
      "outputs": []
    },
    {
      "cell_type": "code",
      "metadata": {
        "id": "u-6npAuhE5-m"
      },
      "source": [
        "logging.warning(\"Create Dataset using `tf.data.Dataset` for training and validation\")"
      ],
      "execution_count": 59,
      "outputs": []
    },
    {
      "cell_type": "code",
      "metadata": {
        "colab": {
          "base_uri": "https://localhost:8080/"
        },
        "id": "bc-o12kHE-mO",
        "outputId": "4bf0d407-a4a0-4e17-bb1e-4751db959418"
      },
      "source": [
        "train_dataset = tf.data.Dataset.from_tensor_slices((train_sentences_r, train_labels))\n",
        "val_dataset = tf.data.Dataset.from_tensor_slices((val_sentences_r, val_labels))\n",
        "\n",
        "train_dataset, val_dataset"
      ],
      "execution_count": 60,
      "outputs": [
        {
          "output_type": "execute_result",
          "data": {
            "text/plain": [
              "(<TensorSliceDataset shapes: ((), ()), types: (tf.string, tf.int64)>,\n",
              " <TensorSliceDataset shapes: ((), ()), types: (tf.string, tf.int64)>)"
            ]
          },
          "metadata": {},
          "execution_count": 60
        }
      ]
    },
    {
      "cell_type": "code",
      "metadata": {
        "colab": {
          "base_uri": "https://localhost:8080/"
        },
        "id": "qwxN9xjcFyyF",
        "outputId": "39d19c26-06fc-406a-f173-2b32e1f6a002"
      },
      "source": [
        "logging.warning(\"Prefetch batch using `tf.data.AUTOTUNE`\")\n",
        "train_dataset = train_dataset.batch(32).prefetch(tf.data.experimental.AUTOTUNE)\n",
        "val_dataset =   val_dataset.batch(32).prefetch(tf.data.experimental.AUTOTUNE)\n",
        "\n",
        "train_dataset, val_dataset"
      ],
      "execution_count": 61,
      "outputs": [
        {
          "output_type": "execute_result",
          "data": {
            "text/plain": [
              "(<PrefetchDataset shapes: ((None,), (None,)), types: (tf.string, tf.int64)>,\n",
              " <PrefetchDataset shapes: ((None,), (None,)), types: (tf.string, tf.int64)>)"
            ]
          },
          "metadata": {},
          "execution_count": 61
        }
      ]
    },
    {
      "cell_type": "code",
      "metadata": {
        "colab": {
          "base_uri": "https://localhost:8080/"
        },
        "id": "GBhARMb4LaAs",
        "outputId": "2ff91f0a-c37f-4cd2-df7a-d62d704966a1"
      },
      "source": [
        "# Build model with the Functional API\n",
        "from tensorflow.keras import layers\n",
        "from tensorflow.keras.layers import  Dense, GlobalAveragePooling1D\n",
        "\n",
        "# Set random seed\n",
        "tf.random.set_seed(452)\n",
        "\n",
        "# Construct model\n",
        "inputs = layers.Input(shape=(1,), dtype=tf.string,ragged=True) \n",
        "text_vectorization_layer = text_vectorizer(inputs) \n",
        "embedding_layer = embedding(text_vectorization_layer) \n",
        "global_average_pooling_layer = layers.GlobalAveragePooling1D()(embedding_layer) \n",
        "outputs = layers.Dense(num_classes, activation=\"softmax\")(global_average_pooling_layer) \n",
        "model_1 = tf.keras.Model(inputs, outputs, name=\"model_1_dense\")\n",
        "\n",
        "# Compile the model\n",
        "model_1.compile(loss=tf.keras.losses.SparseCategoricalCrossentropy(),\n",
        "               optimizer=tf.keras.optimizers.Adam(),\n",
        "               metrics=['accuracy'])\n",
        "\n",
        "# Summary\n",
        "model_1.summary()"
      ],
      "execution_count": 62,
      "outputs": [
        {
          "output_type": "stream",
          "name": "stdout",
          "text": [
            "Model: \"model_1_dense\"\n",
            "_________________________________________________________________\n",
            " Layer (type)                Output Shape              Param #   \n",
            "=================================================================\n",
            " input_1 (InputLayer)        [(None, 1)]               0         \n",
            "                                                                 \n",
            " text_vectorization (TextVec  (None, 714)              0         \n",
            " torization)                                                     \n",
            "                                                                 \n",
            " embedding_1 (Embedding)     (None, 714, 128)          3187840   \n",
            "                                                                 \n",
            " global_average_pooling1d (G  (None, 128)              0         \n",
            " lobalAveragePooling1D)                                          \n",
            "                                                                 \n",
            " dense (Dense)               (None, 5)                 645       \n",
            "                                                                 \n",
            "=================================================================\n",
            "Total params: 3,188,485\n",
            "Trainable params: 3,188,485\n",
            "Non-trainable params: 0\n",
            "_________________________________________________________________\n"
          ]
        }
      ]
    },
    {
      "cell_type": "code",
      "metadata": {
        "id": "3lG_RRZiLaAv"
      },
      "source": [
        "logging.warning(\"Fit and train model\")"
      ],
      "execution_count": 63,
      "outputs": []
    },
    {
      "cell_type": "code",
      "metadata": {
        "colab": {
          "base_uri": "https://localhost:8080/"
        },
        "id": "BKWEEn0wLaAw",
        "outputId": "e7a6dd20-6f45-4152-b6f1-ddbe920c7e27"
      },
      "source": [
        "# Fit\n",
        "history_1 = model_1.fit(train_dataset,\n",
        "                       epochs=5,\n",
        "                       validation_data=val_dataset,\n",
        "                       callbacks=[early_stopping_callback,\n",
        "                                 create_tensorboard_callback(dir_name='Model_logs',\n",
        "                                                            experiment_name='simple_dense_model')])"
      ],
      "execution_count": 64,
      "outputs": [
        {
          "output_type": "stream",
          "name": "stdout",
          "text": [
            "Saving TensorBoard log files to: Model_logs/simple_dense_model/20211129-014659\n",
            "Epoch 1/5\n",
            "38/38 [==============================] - 3s 21ms/step - loss: 1.5906 - accuracy: 0.3909 - val_loss: 1.5601 - val_accuracy: 0.4631\n",
            "Epoch 2/5\n",
            "38/38 [==============================] - 1s 16ms/step - loss: 1.5376 - accuracy: 0.4807 - val_loss: 1.4977 - val_accuracy: 0.5403\n",
            "Epoch 3/5\n",
            "38/38 [==============================] - 1s 15ms/step - loss: 1.4691 - accuracy: 0.5386 - val_loss: 1.4164 - val_accuracy: 0.6577\n",
            "Epoch 4/5\n",
            "38/38 [==============================] - 1s 15ms/step - loss: 1.3784 - accuracy: 0.6208 - val_loss: 1.3188 - val_accuracy: 0.7047\n",
            "Epoch 5/5\n",
            "38/38 [==============================] - 1s 15ms/step - loss: 1.2688 - accuracy: 0.6946 - val_loss: 1.2117 - val_accuracy: 0.7383\n"
          ]
        }
      ]
    },
    {
      "cell_type": "code",
      "metadata": {
        "colab": {
          "base_uri": "https://localhost:8080/"
        },
        "id": "7K_03XcjJcvu",
        "outputId": "405b2a00-ca85-4c79-91d2-8233d618cb6c"
      },
      "source": [
        "logging.warning(\"Evaluate model_1 on val_dataset\")\n",
        "model_1.evaluate(val_dataset)"
      ],
      "execution_count": 65,
      "outputs": [
        {
          "output_type": "stream",
          "name": "stdout",
          "text": [
            "10/10 [==============================] - 0s 6ms/step - loss: 1.2117 - accuracy: 0.7383\n"
          ]
        },
        {
          "output_type": "execute_result",
          "data": {
            "text/plain": [
              "[1.2117449045181274, 0.7382550239562988]"
            ]
          },
          "metadata": {},
          "execution_count": 65
        }
      ]
    },
    {
      "cell_type": "code",
      "metadata": {
        "id": "xevXOH58LaAx"
      },
      "source": [
        "logging.warning(\"Make prediction using simple dense model\")"
      ],
      "execution_count": 66,
      "outputs": []
    },
    {
      "cell_type": "code",
      "metadata": {
        "colab": {
          "base_uri": "https://localhost:8080/"
        },
        "id": "sSmUYHmlLaAx",
        "outputId": "64317b98-acef-40cb-cf0e-904cc332d658"
      },
      "source": [
        "model_1_pred_probs = model_1.predict(val_dataset)\n",
        "model_1_pred_probs\n"
      ],
      "execution_count": 67,
      "outputs": [
        {
          "output_type": "execute_result",
          "data": {
            "text/plain": [
              "array([[0.23281938, 0.29177472, 0.11473512, 0.2842984 , 0.07637245],\n",
              "       [0.21276127, 0.33686626, 0.12615626, 0.23565061, 0.08856563],\n",
              "       [0.23632078, 0.23289973, 0.11154409, 0.35088748, 0.0683479 ],\n",
              "       ...,\n",
              "       [0.32061094, 0.15247124, 0.17423537, 0.18107475, 0.17160766],\n",
              "       [0.14969335, 0.07568392, 0.21736792, 0.0858835 , 0.47137126],\n",
              "       [0.17812762, 0.14570095, 0.33635226, 0.18901455, 0.15080464]],\n",
              "      dtype=float32)"
            ]
          },
          "metadata": {},
          "execution_count": 67
        }
      ]
    },
    {
      "cell_type": "code",
      "metadata": {
        "colab": {
          "base_uri": "https://localhost:8080/"
        },
        "id": "g5fqURVsJjwY",
        "outputId": "9549bbf0-7877-46ff-852c-abb5165a8249"
      },
      "source": [
        "model_1_preds = tf.argmax(model_1_pred_probs,axis=1)\n",
        "model_1_preds"
      ],
      "execution_count": 68,
      "outputs": [
        {
          "output_type": "execute_result",
          "data": {
            "text/plain": [
              "<tf.Tensor: shape=(298,), dtype=int64, numpy=\n",
              "array([1, 1, 3, 3, 2, 4, 4, 3, 3, 3, 3, 3, 3, 3, 4, 1, 2, 3, 0, 3, 3, 0,\n",
              "       0, 4, 3, 3, 3, 2, 3, 3, 2, 3, 3, 0, 0, 0, 2, 0, 0, 3, 3, 3, 4, 3,\n",
              "       4, 3, 3, 0, 3, 3, 0, 0, 0, 3, 3, 0, 3, 4, 2, 3, 3, 2, 0, 0, 0, 2,\n",
              "       4, 3, 2, 0, 2, 4, 3, 3, 0, 2, 3, 0, 3, 0, 3, 2, 0, 0, 3, 3, 0, 0,\n",
              "       0, 4, 3, 1, 3, 4, 4, 0, 3, 3, 2, 2, 0, 2, 3, 3, 1, 0, 2, 4, 3, 0,\n",
              "       3, 2, 3, 3, 0, 0, 3, 4, 0, 1, 4, 0, 0, 3, 0, 4, 3, 2, 3, 0, 2, 3,\n",
              "       3, 0, 3, 4, 4, 3, 0, 0, 3, 3, 4, 3, 0, 3, 3, 0, 0, 3, 3, 0, 3, 3,\n",
              "       1, 3, 0, 3, 2, 3, 3, 2, 3, 3, 0, 3, 4, 2, 0, 4, 2, 0, 3, 2, 4, 0,\n",
              "       0, 4, 0, 0, 4, 4, 4, 3, 2, 3, 0, 4, 4, 0, 3, 0, 2, 0, 0, 0, 0, 0,\n",
              "       2, 4, 0, 3, 3, 4, 0, 0, 4, 3, 0, 0, 3, 4, 2, 2, 3, 0, 0, 3, 4, 4,\n",
              "       0, 3, 3, 4, 3, 0, 3, 3, 2, 0, 4, 3, 2, 4, 4, 2, 4, 3, 2, 3, 0, 0,\n",
              "       3, 4, 3, 0, 4, 0, 3, 3, 4, 1, 4, 3, 3, 3, 4, 3, 0, 4, 0, 0, 4, 0,\n",
              "       0, 2, 2, 4, 0, 0, 3, 2, 4, 0, 3, 3, 0, 3, 0, 0, 2, 0, 0, 2, 0, 3,\n",
              "       1, 3, 3, 0, 3, 3, 0, 3, 0, 0, 4, 2])>"
            ]
          },
          "metadata": {},
          "execution_count": 68
        }
      ]
    },
    {
      "cell_type": "code",
      "metadata": {
        "id": "irOu28IbLaAy"
      },
      "source": [
        "logging.warning(\"Evaluate using simple dense model\")"
      ],
      "execution_count": 69,
      "outputs": []
    },
    {
      "cell_type": "code",
      "metadata": {
        "colab": {
          "base_uri": "https://localhost:8080/"
        },
        "id": "qbcrrcbbLaAz",
        "outputId": "886faaa8-a2a4-43be-b839-f8bb2fa8feb8"
      },
      "source": [
        "# Calculate model_1 metrics\n",
        "model_1_results = evaluation_metrics(y_true=val_labels, \n",
        "                                    y_pred=model_1_preds)\n",
        "model_1_results"
      ],
      "execution_count": 70,
      "outputs": [
        {
          "output_type": "execute_result",
          "data": {
            "text/plain": [
              "{'accuracy': 0.738255033557047,\n",
              " 'f1': 0.7031040637698016,\n",
              " 'precision': 0.803971563751046,\n",
              " 'recall': 0.738255033557047}"
            ]
          },
          "metadata": {},
          "execution_count": 70
        }
      ]
    },
    {
      "cell_type": "code",
      "metadata": {
        "id": "IkWN1F6iLaAz"
      },
      "source": [
        "logging.warning(\"-\"*100)\n",
        "logging.warning(\"Model 2 Conv1D\")"
      ],
      "execution_count": 71,
      "outputs": []
    },
    {
      "cell_type": "code",
      "metadata": {
        "colab": {
          "base_uri": "https://localhost:8080/"
        },
        "id": "1X-ix93_Pr-f",
        "outputId": "8aef7eb7-ef46-4d21-ee23-92e661785063"
      },
      "source": [
        "# Set random seed\n",
        "tf.random.set_seed(42)\n",
        "\n",
        "\n",
        "# Create Conv1D model\n",
        "inputs = layers.Input(shape=(1,),dtype='string',ragged=True)\n",
        "text_vectorization_layer = text_vectorizer(inputs)\n",
        "embedding_layer = embedding(text_vectorization_layer)\n",
        "x = layers.Conv1D(64, 5, padding='same', activation='relu')(embedding_layer)\n",
        "x = layers.GlobalAveragePooling1D()(x)\n",
        "outputs = layers.Dense(5, activation='softmax')(x)\n",
        "model_2 = tf.keras.Model(inputs,outputs,name='model_2_Conv1D')\n",
        "\n",
        "# Compile\n",
        "model_2.compile(loss=tf.keras.losses.SparseCategoricalCrossentropy(),\n",
        "                optimizer='adam',\n",
        "                metrics=['accuracy'])\n",
        "\n",
        "# summary \n",
        "model_2.summary()"
      ],
      "execution_count": 72,
      "outputs": [
        {
          "output_type": "stream",
          "name": "stdout",
          "text": [
            "Model: \"model_2_Conv1D\"\n",
            "_________________________________________________________________\n",
            " Layer (type)                Output Shape              Param #   \n",
            "=================================================================\n",
            " input_2 (InputLayer)        [(None, 1)]               0         \n",
            "                                                                 \n",
            " text_vectorization (TextVec  (None, 714)              0         \n",
            " torization)                                                     \n",
            "                                                                 \n",
            " embedding_1 (Embedding)     (None, 714, 128)          3187840   \n",
            "                                                                 \n",
            " conv1d (Conv1D)             (None, 714, 64)           41024     \n",
            "                                                                 \n",
            " global_average_pooling1d_1   (None, 64)               0         \n",
            " (GlobalAveragePooling1D)                                        \n",
            "                                                                 \n",
            " dense_1 (Dense)             (None, 5)                 325       \n",
            "                                                                 \n",
            "=================================================================\n",
            "Total params: 3,229,189\n",
            "Trainable params: 3,229,189\n",
            "Non-trainable params: 0\n",
            "_________________________________________________________________\n"
          ]
        }
      ]
    },
    {
      "cell_type": "code",
      "metadata": {
        "colab": {
          "base_uri": "https://localhost:8080/"
        },
        "id": "MjSXybDTRqcd",
        "outputId": "50f35fdc-89dc-4f99-ee1b-42fc2e6972aa"
      },
      "source": [
        "logging.warning(\"Fit and train model\")\n",
        "history_2 = model_2.fit(train_dataset,\n",
        "                        epochs=5,\n",
        "                        validation_data=val_dataset,\n",
        "                        callbacks=[early_stopping_callback,\n",
        "                                 create_tensorboard_callback(dir_name='Model_logs',\n",
        "                                                            experiment_name='model_2_Conv1d')])"
      ],
      "execution_count": 73,
      "outputs": [
        {
          "output_type": "stream",
          "name": "stdout",
          "text": [
            "Saving TensorBoard log files to: Model_logs/model_2_Conv1d/20211129-014706\n",
            "Epoch 1/5\n",
            "38/38 [==============================] - 9s 29ms/step - loss: 1.2857 - accuracy: 0.7064 - val_loss: 1.0097 - val_accuracy: 0.7349\n",
            "Epoch 2/5\n",
            "38/38 [==============================] - 1s 21ms/step - loss: 0.7457 - accuracy: 0.8591 - val_loss: 0.6198 - val_accuracy: 0.8926\n",
            "Epoch 3/5\n",
            "38/38 [==============================] - 1s 20ms/step - loss: 0.3980 - accuracy: 0.9480 - val_loss: 0.3816 - val_accuracy: 0.9262\n",
            "Epoch 4/5\n",
            "38/38 [==============================] - 1s 21ms/step - loss: 0.2078 - accuracy: 0.9815 - val_loss: 0.2540 - val_accuracy: 0.9497\n",
            "Epoch 5/5\n",
            "38/38 [==============================] - 1s 20ms/step - loss: 0.1168 - accuracy: 0.9916 - val_loss: 0.1903 - val_accuracy: 0.9564\n"
          ]
        }
      ]
    },
    {
      "cell_type": "code",
      "metadata": {
        "id": "1rFQNuidSOi4",
        "colab": {
          "base_uri": "https://localhost:8080/"
        },
        "outputId": "e201c472-b2b9-49bc-9579-256976bbe9d5"
      },
      "source": [
        "logging.warning(\"Evaluate using model_2 on val_dataset\")\n",
        "model_2.evaluate(val_dataset)"
      ],
      "execution_count": 74,
      "outputs": [
        {
          "output_type": "stream",
          "name": "stdout",
          "text": [
            "10/10 [==============================] - 0s 9ms/step - loss: 0.1903 - accuracy: 0.9564\n"
          ]
        },
        {
          "output_type": "execute_result",
          "data": {
            "text/plain": [
              "[0.19032137095928192, 0.9563758373260498]"
            ]
          },
          "metadata": {},
          "execution_count": 74
        }
      ]
    },
    {
      "cell_type": "code",
      "metadata": {
        "id": "Gtn-iENXK6IT"
      },
      "source": [
        "logging.warning(\"Make prediction with Conv1D model\")"
      ],
      "execution_count": 75,
      "outputs": []
    },
    {
      "cell_type": "code",
      "metadata": {
        "id": "e8toTgtkLA0q",
        "colab": {
          "base_uri": "https://localhost:8080/"
        },
        "outputId": "9783fc40-20fd-47ad-c317-8c4ec86fdb15"
      },
      "source": [
        "model_2_pred_probs = model_2.predict(val_dataset)\n",
        "model_2_pred_probs"
      ],
      "execution_count": 76,
      "outputs": [
        {
          "output_type": "execute_result",
          "data": {
            "text/plain": [
              "array([[5.9421854e-03, 9.5494390e-01, 9.2830276e-03, 2.0698741e-02,\n",
              "        9.1321506e-03],\n",
              "       [1.4362318e-04, 9.9755365e-01, 8.0331881e-04, 1.9062306e-04,\n",
              "        1.3088663e-03],\n",
              "       [2.0791594e-02, 7.3766753e-02, 2.6469171e-02, 8.7058860e-01,\n",
              "        8.3838655e-03],\n",
              "       ...,\n",
              "       [9.8919642e-01, 5.9858622e-04, 3.9440948e-03, 1.3854050e-04,\n",
              "        6.1223893e-03],\n",
              "       [9.7906857e-04, 7.0145726e-04, 2.5561525e-04, 8.1521449e-07,\n",
              "        9.9806303e-01],\n",
              "       [2.1310776e-04, 6.3759013e-04, 9.9895418e-01, 1.0040476e-04,\n",
              "        9.4656309e-05]], dtype=float32)"
            ]
          },
          "metadata": {},
          "execution_count": 76
        }
      ]
    },
    {
      "cell_type": "code",
      "metadata": {
        "id": "ImZ0xvYWLKFh",
        "colab": {
          "base_uri": "https://localhost:8080/"
        },
        "outputId": "a00da322-0b66-46d2-b621-4ce4c14e876c"
      },
      "source": [
        "model_2_preds = tf.argmax(model_2_pred_probs, axis=1)\n",
        "model_2_preds"
      ],
      "execution_count": 77,
      "outputs": [
        {
          "output_type": "execute_result",
          "data": {
            "text/plain": [
              "<tf.Tensor: shape=(298,), dtype=int64, numpy=\n",
              "array([1, 1, 3, 2, 2, 4, 4, 2, 3, 3, 1, 3, 3, 3, 1, 1, 2, 3, 0, 1, 3, 0,\n",
              "       0, 4, 3, 3, 1, 2, 3, 3, 2, 3, 1, 0, 0, 0, 2, 0, 0, 1, 3, 1, 4, 1,\n",
              "       4, 3, 3, 0, 3, 3, 0, 0, 0, 1, 3, 0, 3, 4, 2, 3, 3, 2, 0, 0, 4, 2,\n",
              "       4, 3, 2, 0, 2, 4, 3, 3, 4, 2, 1, 0, 1, 0, 3, 2, 0, 4, 2, 3, 0, 0,\n",
              "       0, 1, 1, 1, 3, 4, 4, 0, 4, 3, 2, 0, 0, 2, 3, 1, 1, 0, 2, 1, 1, 4,\n",
              "       3, 2, 3, 3, 0, 0, 1, 4, 0, 1, 4, 0, 0, 1, 1, 4, 3, 2, 3, 0, 2, 3,\n",
              "       3, 2, 2, 0, 4, 3, 4, 4, 3, 3, 4, 1, 4, 1, 3, 0, 0, 1, 3, 4, 3, 3,\n",
              "       1, 1, 0, 1, 2, 1, 1, 2, 3, 1, 0, 2, 4, 2, 0, 4, 2, 0, 3, 2, 4, 1,\n",
              "       0, 4, 0, 0, 4, 4, 4, 2, 2, 3, 4, 4, 4, 0, 1, 0, 2, 0, 1, 0, 0, 0,\n",
              "       2, 3, 0, 3, 2, 4, 0, 0, 4, 1, 0, 0, 3, 4, 2, 2, 3, 0, 0, 1, 4, 4,\n",
              "       0, 3, 1, 4, 1, 0, 3, 2, 2, 0, 4, 1, 2, 4, 4, 2, 4, 1, 2, 3, 0, 0,\n",
              "       3, 4, 3, 1, 4, 4, 3, 3, 3, 1, 4, 3, 1, 1, 4, 3, 0, 4, 0, 0, 2, 2,\n",
              "       0, 2, 2, 4, 0, 0, 3, 2, 4, 2, 3, 3, 4, 3, 0, 0, 2, 0, 0, 2, 0, 3,\n",
              "       1, 3, 1, 0, 3, 3, 2, 0, 0, 0, 4, 2])>"
            ]
          },
          "metadata": {},
          "execution_count": 77
        }
      ]
    },
    {
      "cell_type": "code",
      "metadata": {
        "id": "0f9_Al4OLRxr"
      },
      "source": [
        "logging.warning(\"Evaluation metrics using Conv1D\")\n"
      ],
      "execution_count": 78,
      "outputs": []
    },
    {
      "cell_type": "code",
      "metadata": {
        "id": "aPtFYwkQLbjL",
        "colab": {
          "base_uri": "https://localhost:8080/"
        },
        "outputId": "71db3be9-5621-4c71-eb34-ed33363de21f"
      },
      "source": [
        "model_2_results = evaluation_metrics(val_labels,\n",
        "                                     model_2_preds)\n",
        "model_2_results"
      ],
      "execution_count": 79,
      "outputs": [
        {
          "output_type": "execute_result",
          "data": {
            "text/plain": [
              "{'accuracy': 0.9563758389261745,\n",
              " 'f1': 0.9560226495196614,\n",
              " 'precision': 0.9571000659771737,\n",
              " 'recall': 0.9563758389261745}"
            ]
          },
          "metadata": {},
          "execution_count": 79
        }
      ]
    },
    {
      "cell_type": "code",
      "metadata": {
        "id": "dHprM20xLqkS"
      },
      "source": [
        "logging.warning(\"-\"*100)\n",
        "logging.warning(\"Model_3 LSTM\")"
      ],
      "execution_count": 80,
      "outputs": []
    },
    {
      "cell_type": "code",
      "metadata": {
        "id": "JM2R9hGaMIer",
        "colab": {
          "base_uri": "https://localhost:8080/"
        },
        "outputId": "c58bd4fa-25ac-4a08-fb14-d018a3c99b05"
      },
      "source": [
        "# Set random seed\n",
        "tf.random.set_seed(42)\n",
        "\n",
        "\n",
        "# Build LSTM model\n",
        "inputs = tf.keras.Input(shape=(1,),dtype=tf.string,ragged=True)\n",
        "text_vectorization_layer = text_vectorizer(inputs)\n",
        "embedding_layer = embedding(text_vectorization_layer)\n",
        "x = layers.LSTM(64,return_sequences=True)(embedding_layer)\n",
        "x = layers.Dense(128, activation='relu')(x)\n",
        "x = layers.GlobalAveragePooling1D()(x)\n",
        "outputs = layers.Dense(num_classes, activation='softmax')(x)\n",
        "model_3 = tf.keras.Model(inputs, outputs,name='Model_3_LSTM')\n",
        "\n",
        "# Compile\n",
        "model_3.compile(loss=tf.keras.losses.SparseCategoricalCrossentropy(),\n",
        "                optimizer=tf.keras.optimizers.Adam(),\n",
        "                metrics=['accuracy'])\n",
        "\n",
        "# Summary\n",
        "model_3.summary()"
      ],
      "execution_count": 81,
      "outputs": [
        {
          "output_type": "stream",
          "name": "stdout",
          "text": [
            "Model: \"Model_3_LSTM\"\n",
            "_________________________________________________________________\n",
            " Layer (type)                Output Shape              Param #   \n",
            "=================================================================\n",
            " input_3 (InputLayer)        [(None, 1)]               0         \n",
            "                                                                 \n",
            " text_vectorization (TextVec  (None, 714)              0         \n",
            " torization)                                                     \n",
            "                                                                 \n",
            " embedding_1 (Embedding)     (None, 714, 128)          3187840   \n",
            "                                                                 \n",
            " lstm (LSTM)                 (None, 714, 64)           49408     \n",
            "                                                                 \n",
            " dense_2 (Dense)             (None, 714, 128)          8320      \n",
            "                                                                 \n",
            " global_average_pooling1d_2   (None, 128)              0         \n",
            " (GlobalAveragePooling1D)                                        \n",
            "                                                                 \n",
            " dense_3 (Dense)             (None, 5)                 645       \n",
            "                                                                 \n",
            "=================================================================\n",
            "Total params: 3,246,213\n",
            "Trainable params: 3,246,213\n",
            "Non-trainable params: 0\n",
            "_________________________________________________________________\n"
          ]
        }
      ]
    },
    {
      "cell_type": "code",
      "metadata": {
        "id": "_AFpeGQDNvxR",
        "colab": {
          "base_uri": "https://localhost:8080/"
        },
        "outputId": "1659649c-ed1a-4647-a093-49440498034c"
      },
      "source": [
        "logging.warning(\"Fit and train model\")\n",
        "history_3 = model_3.fit(train_dataset,\n",
        "                        epochs=5,\n",
        "                        validation_data=val_dataset,\n",
        "                        callbacks=[early_stopping_callback,\n",
        "                                   create_tensorboard_callback(dir_name='Model_logs',\n",
        "                                                               experiment_name='Model_3_LSTM')])"
      ],
      "execution_count": 82,
      "outputs": [
        {
          "output_type": "stream",
          "name": "stdout",
          "text": [
            "Saving TensorBoard log files to: Model_logs/Model_3_LSTM/20211129-014722\n",
            "Epoch 1/5\n",
            "38/38 [==============================] - 9s 151ms/step - loss: 1.1736 - accuracy: 0.6124 - val_loss: 0.6856 - val_accuracy: 0.8389\n",
            "Epoch 2/5\n",
            "38/38 [==============================] - 5s 131ms/step - loss: 0.3258 - accuracy: 0.9530 - val_loss: 0.1805 - val_accuracy: 0.9631\n",
            "Epoch 3/5\n",
            "38/38 [==============================] - 5s 131ms/step - loss: 0.0935 - accuracy: 0.9849 - val_loss: 0.3174 - val_accuracy: 0.9295\n",
            "Epoch 4/5\n",
            "38/38 [==============================] - 5s 129ms/step - loss: 0.0964 - accuracy: 0.9841 - val_loss: 0.1397 - val_accuracy: 0.9698\n",
            "Epoch 5/5\n",
            "38/38 [==============================] - 5s 132ms/step - loss: 0.0435 - accuracy: 0.9933 - val_loss: 0.1147 - val_accuracy: 0.9698\n"
          ]
        }
      ]
    },
    {
      "cell_type": "code",
      "metadata": {
        "id": "ZB8QryeXPYz3",
        "colab": {
          "base_uri": "https://localhost:8080/"
        },
        "outputId": "5f9b5bc8-2fce-4d7d-bd2c-46d0c99ea95a"
      },
      "source": [
        "logging.warning(\"Evaluate model_3 on val_dataset\")\n",
        "model_3.evaluate(val_dataset)"
      ],
      "execution_count": 83,
      "outputs": [
        {
          "output_type": "stream",
          "name": "stdout",
          "text": [
            "10/10 [==============================] - 0s 44ms/step - loss: 0.1147 - accuracy: 0.9698\n"
          ]
        },
        {
          "output_type": "execute_result",
          "data": {
            "text/plain": [
              "[0.1146596223115921, 0.9697986841201782]"
            ]
          },
          "metadata": {},
          "execution_count": 83
        }
      ]
    },
    {
      "cell_type": "code",
      "metadata": {
        "id": "H0Bpyt7rQNmP"
      },
      "source": [
        "logging.warning(\"Make prediction with LSTM model\")"
      ],
      "execution_count": 84,
      "outputs": []
    },
    {
      "cell_type": "code",
      "metadata": {
        "id": "YOQrSI16QUCQ",
        "colab": {
          "base_uri": "https://localhost:8080/"
        },
        "outputId": "0d0407fc-b018-41ba-c3fe-b8b3445bd591"
      },
      "source": [
        "model_3_pred_probs = model_3.predict(val_dataset)\n",
        "model_3_pred_probs"
      ],
      "execution_count": 85,
      "outputs": [
        {
          "output_type": "execute_result",
          "data": {
            "text/plain": [
              "array([[1.2962554e-03, 9.8498487e-01, 4.1194535e-03, 2.5364480e-03,\n",
              "        7.0629213e-03],\n",
              "       [1.3859179e-04, 9.9489957e-01, 9.5950527e-04, 2.9727432e-04,\n",
              "        3.7050180e-03],\n",
              "       [2.2049330e-02, 7.9811849e-03, 3.5909445e-03, 9.6519876e-01,\n",
              "        1.1797830e-03],\n",
              "       ...,\n",
              "       [9.9682498e-01, 3.9944105e-05, 2.4503411e-03, 1.4463479e-04,\n",
              "        5.4009265e-04],\n",
              "       [4.8254662e-07, 9.5581472e-06, 6.8836084e-06, 8.9023979e-09,\n",
              "        9.9998307e-01],\n",
              "       [2.2609273e-04, 1.9824055e-04, 9.9949014e-01, 1.9371607e-06,\n",
              "        8.3645216e-05]], dtype=float32)"
            ]
          },
          "metadata": {},
          "execution_count": 85
        }
      ]
    },
    {
      "cell_type": "code",
      "metadata": {
        "id": "AgGy08o8QY-3",
        "colab": {
          "base_uri": "https://localhost:8080/"
        },
        "outputId": "e08fa1c7-d074-4502-dcb4-0d2cfa2201ae"
      },
      "source": [
        "model_3_preds = tf.argmax(model_3_pred_probs, axis=1)\n",
        "model_3_preds"
      ],
      "execution_count": 86,
      "outputs": [
        {
          "output_type": "execute_result",
          "data": {
            "text/plain": [
              "<tf.Tensor: shape=(298,), dtype=int64, numpy=\n",
              "array([1, 1, 3, 2, 2, 4, 4, 2, 3, 3, 1, 3, 3, 3, 1, 1, 2, 3, 0, 1, 3, 0,\n",
              "       0, 4, 3, 3, 1, 2, 3, 3, 2, 3, 1, 0, 0, 0, 2, 0, 0, 1, 3, 1, 4, 1,\n",
              "       4, 3, 3, 0, 3, 3, 0, 0, 0, 1, 3, 0, 3, 4, 2, 3, 3, 2, 0, 0, 4, 2,\n",
              "       4, 3, 2, 0, 2, 4, 3, 3, 2, 2, 1, 0, 1, 0, 3, 2, 0, 4, 2, 3, 0, 0,\n",
              "       0, 1, 1, 1, 3, 4, 4, 0, 4, 3, 2, 0, 0, 2, 3, 1, 1, 0, 2, 1, 1, 4,\n",
              "       3, 2, 3, 3, 4, 0, 1, 4, 4, 1, 4, 0, 0, 1, 1, 4, 3, 2, 3, 0, 2, 3,\n",
              "       3, 2, 2, 0, 4, 3, 4, 4, 3, 3, 4, 1, 4, 3, 3, 0, 0, 1, 3, 4, 3, 3,\n",
              "       1, 1, 0, 1, 2, 1, 1, 2, 3, 1, 0, 2, 4, 2, 0, 4, 2, 0, 3, 2, 4, 1,\n",
              "       0, 4, 0, 0, 4, 4, 4, 2, 2, 3, 4, 4, 4, 0, 1, 4, 2, 0, 1, 0, 0, 0,\n",
              "       2, 3, 0, 3, 2, 4, 0, 0, 4, 1, 0, 0, 3, 4, 2, 2, 3, 4, 0, 1, 4, 4,\n",
              "       0, 3, 1, 4, 1, 0, 3, 2, 2, 0, 4, 1, 2, 1, 4, 2, 1, 1, 2, 3, 0, 0,\n",
              "       3, 4, 3, 1, 4, 4, 3, 3, 3, 1, 4, 3, 1, 1, 4, 3, 0, 4, 0, 0, 1, 2,\n",
              "       0, 2, 2, 4, 0, 0, 3, 1, 4, 2, 3, 3, 4, 3, 0, 0, 2, 0, 2, 2, 0, 3,\n",
              "       1, 3, 1, 0, 3, 3, 2, 0, 0, 0, 4, 2])>"
            ]
          },
          "metadata": {},
          "execution_count": 86
        }
      ]
    },
    {
      "cell_type": "code",
      "metadata": {
        "id": "Qgf2Shy_QetH"
      },
      "source": [
        "logging.warning(\"Evaluation metrics using LSTM\")"
      ],
      "execution_count": 87,
      "outputs": []
    },
    {
      "cell_type": "code",
      "metadata": {
        "id": "YRjM3XTbQjG_",
        "colab": {
          "base_uri": "https://localhost:8080/"
        },
        "outputId": "8dab1292-a518-45e3-ca04-e97bce450265"
      },
      "source": [
        "model_3_results = evaluation_metrics(val_labels,\n",
        "                                     model_3_preds)\n",
        "model_3_results"
      ],
      "execution_count": 88,
      "outputs": [
        {
          "output_type": "execute_result",
          "data": {
            "text/plain": [
              "{'accuracy': 0.9697986577181208,\n",
              " 'f1': 0.9698123265529475,\n",
              " 'precision': 0.9701218902166394,\n",
              " 'recall': 0.9697986577181208}"
            ]
          },
          "metadata": {},
          "execution_count": 88
        }
      ]
    },
    {
      "cell_type": "code",
      "metadata": {
        "id": "fynx3jbIQodf"
      },
      "source": [
        "logging.warning(\"-\"*100)\n",
        "logging.warning(\"Model 4 GRU\")\n"
      ],
      "execution_count": 89,
      "outputs": []
    },
    {
      "cell_type": "code",
      "metadata": {
        "id": "4vcntDHoQd0a",
        "colab": {
          "base_uri": "https://localhost:8080/"
        },
        "outputId": "ca831f39-b584-4971-d374-baa1029fc378"
      },
      "source": [
        "#  Set random seed\n",
        "tf.random.set_seed(42)\n",
        "\n",
        "\n",
        "\n",
        "# Build model\n",
        "inputs = tf.keras.Input(shape=(1,),dtype=tf.string,ragged=True)\n",
        "text_vectorization_layer = text_vectorizer(inputs)\n",
        "embedding_layer = embedding(text_vectorization_layer)\n",
        "x = layers.GRU(64, return_sequences=True)(embedding_layer)\n",
        "x = layers.Dense(128,activation='relu')(x)\n",
        "x = layers.GlobalAveragePooling1D()(x)\n",
        "outputs = layers.Dense(num_classes, activation='softmax')(x)\n",
        "model_4 = tf.keras.Model(inputs,outputs,name='model_4_GRU')\n",
        "\n",
        "# Compile\n",
        "model_4.compile(loss=tf.keras.losses.SparseCategoricalCrossentropy(),\n",
        "                optimizer=tf.keras.optimizers.Adam(),\n",
        "                metrics=['accuracy'])\n",
        "\n",
        "# Summary\n",
        "model_4.summary()"
      ],
      "execution_count": 90,
      "outputs": [
        {
          "output_type": "stream",
          "name": "stdout",
          "text": [
            "Model: \"model_4_GRU\"\n",
            "_________________________________________________________________\n",
            " Layer (type)                Output Shape              Param #   \n",
            "=================================================================\n",
            " input_4 (InputLayer)        [(None, 1)]               0         \n",
            "                                                                 \n",
            " text_vectorization (TextVec  (None, 714)              0         \n",
            " torization)                                                     \n",
            "                                                                 \n",
            " embedding_1 (Embedding)     (None, 714, 128)          3187840   \n",
            "                                                                 \n",
            " gru (GRU)                   (None, 714, 64)           37248     \n",
            "                                                                 \n",
            " dense_4 (Dense)             (None, 714, 128)          8320      \n",
            "                                                                 \n",
            " global_average_pooling1d_3   (None, 128)              0         \n",
            " (GlobalAveragePooling1D)                                        \n",
            "                                                                 \n",
            " dense_5 (Dense)             (None, 5)                 645       \n",
            "                                                                 \n",
            "=================================================================\n",
            "Total params: 3,234,053\n",
            "Trainable params: 3,234,053\n",
            "Non-trainable params: 0\n",
            "_________________________________________________________________\n"
          ]
        }
      ]
    },
    {
      "cell_type": "code",
      "metadata": {
        "id": "fIUKzoxGSXZ1",
        "colab": {
          "base_uri": "https://localhost:8080/"
        },
        "outputId": "5061e39c-100b-4ac3-a207-9a04263bd635"
      },
      "source": [
        "logging.warning(\"Fit and train model\")\n",
        "history_4 = model_4.fit(train_dataset,\n",
        "                        epochs=5,\n",
        "                        validation_data=val_dataset,\n",
        "                        callbacks=[early_stopping_callback,\n",
        "                                   create_tensorboard_callback('Model_logs',\n",
        "                                                               'Model_4_GRU')])"
      ],
      "execution_count": 91,
      "outputs": [
        {
          "output_type": "stream",
          "name": "stdout",
          "text": [
            "Saving TensorBoard log files to: Model_logs/Model_4_GRU/20211129-014756\n",
            "Epoch 1/5\n",
            "38/38 [==============================] - 8s 141ms/step - loss: 1.2958 - accuracy: 0.5923 - val_loss: 0.7897 - val_accuracy: 0.7752\n",
            "Epoch 2/5\n",
            "38/38 [==============================] - 5s 126ms/step - loss: 0.3655 - accuracy: 0.9220 - val_loss: 0.3935 - val_accuracy: 0.8893\n",
            "Epoch 3/5\n",
            "38/38 [==============================] - 5s 127ms/step - loss: 0.0833 - accuracy: 0.9916 - val_loss: 0.1815 - val_accuracy: 0.9430\n",
            "Epoch 4/5\n",
            "38/38 [==============================] - 5s 127ms/step - loss: 0.0325 - accuracy: 0.9941 - val_loss: 0.2724 - val_accuracy: 0.9329\n",
            "Epoch 5/5\n",
            "38/38 [==============================] - 5s 127ms/step - loss: 0.0162 - accuracy: 0.9975 - val_loss: 0.2489 - val_accuracy: 0.9430\n"
          ]
        }
      ]
    },
    {
      "cell_type": "code",
      "metadata": {
        "id": "cDiCb4f6Spv7",
        "colab": {
          "base_uri": "https://localhost:8080/"
        },
        "outputId": "abf1f8c4-59ef-4862-866e-de1d0dfb6fb0"
      },
      "source": [
        "logging.warning(\"Evaluate Model 4 on val_dataset\")\n",
        "model_4.evaluate(val_dataset)"
      ],
      "execution_count": 92,
      "outputs": [
        {
          "output_type": "stream",
          "name": "stdout",
          "text": [
            "10/10 [==============================] - 0s 45ms/step - loss: 0.2489 - accuracy: 0.9430\n"
          ]
        },
        {
          "output_type": "execute_result",
          "data": {
            "text/plain": [
              "[0.24887417256832123, 0.9429529905319214]"
            ]
          },
          "metadata": {},
          "execution_count": 92
        }
      ]
    },
    {
      "cell_type": "code",
      "metadata": {
        "id": "W_tycQ1tTJjt"
      },
      "source": [
        "logging.warning(\"Make Prediction using model_4 on val_dataset\")\n"
      ],
      "execution_count": 93,
      "outputs": []
    },
    {
      "cell_type": "code",
      "metadata": {
        "id": "gbrljAfyTSdk",
        "colab": {
          "base_uri": "https://localhost:8080/"
        },
        "outputId": "5d9669be-5944-4546-cb97-154140618e7a"
      },
      "source": [
        "model_4_preds = tf.argmax(model_4.predict(val_dataset),axis=1)\n",
        "model_4_preds[:10]"
      ],
      "execution_count": 94,
      "outputs": [
        {
          "output_type": "execute_result",
          "data": {
            "text/plain": [
              "<tf.Tensor: shape=(10,), dtype=int64, numpy=array([1, 1, 3, 2, 2, 4, 4, 2, 3, 3])>"
            ]
          },
          "metadata": {},
          "execution_count": 94
        }
      ]
    },
    {
      "cell_type": "code",
      "metadata": {
        "id": "N3icqbm-TY2x",
        "colab": {
          "base_uri": "https://localhost:8080/"
        },
        "outputId": "c2d73129-7ce9-4f1d-d764-3d6150ae44e5"
      },
      "source": [
        "logging.warning(\"Evaluate metrics \")\n",
        "model_4_results = evaluation_metrics(val_labels,\n",
        "                                     model_4_preds)\n",
        "model_4_results"
      ],
      "execution_count": 95,
      "outputs": [
        {
          "output_type": "execute_result",
          "data": {
            "text/plain": [
              "{'accuracy': 0.9429530201342282,\n",
              " 'f1': 0.942476194749141,\n",
              " 'precision': 0.9448145242295372,\n",
              " 'recall': 0.9429530201342282}"
            ]
          },
          "metadata": {},
          "execution_count": 95
        }
      ]
    },
    {
      "cell_type": "code",
      "metadata": {
        "id": "z3NV-ESrTtpQ"
      },
      "source": [
        "logging.warning(\"-\"*100)\n",
        "logging.warning(\"Model 5 Bidirectional LSTM\")\n"
      ],
      "execution_count": 96,
      "outputs": []
    },
    {
      "cell_type": "code",
      "metadata": {
        "id": "NsPDUQLMUJ4U",
        "colab": {
          "base_uri": "https://localhost:8080/"
        },
        "outputId": "95941a04-6830-4d71-9746-5c5af1285bdc"
      },
      "source": [
        "# Set random seed\n",
        "tf.random.set_seed(42)\n",
        "\n",
        "\n",
        "\n",
        "# Build model\n",
        "inputs = tf.keras.Input(shape=(1,),dtype=tf.string,ragged=True)\n",
        "text_vectorization_layer = text_vectorizer(inputs)\n",
        "embedding_layer = embedding(text_vectorization_layer)\n",
        "x = layers.Bidirectional(layers.LSTM(64,return_sequences=True))(embedding_layer)\n",
        "x = layers.Bidirectional(layers.LSTM(128,return_sequences=True))(x)\n",
        "x = layers.Dense(128,activation='relu')(x)\n",
        "x = layers.GlobalAveragePooling1D()(x)\n",
        "outputs = layers.Dense(num_classes,activation='softmax')(x)\n",
        "model_5 = tf.keras.Model(inputs,outputs,name='model_5')\n",
        "\n",
        "# Compile\n",
        "model_5.compile(loss=tf.keras.losses.SparseCategoricalCrossentropy(),\n",
        "                optimizer=tf.keras.optimizers.Adam(),\n",
        "                metrics=['accuracy'])\n",
        "\n",
        "# Summary\n",
        "model_5.summary()"
      ],
      "execution_count": 97,
      "outputs": [
        {
          "output_type": "stream",
          "name": "stdout",
          "text": [
            "Model: \"model_5\"\n",
            "_________________________________________________________________\n",
            " Layer (type)                Output Shape              Param #   \n",
            "=================================================================\n",
            " input_5 (InputLayer)        [(None, 1)]               0         \n",
            "                                                                 \n",
            " text_vectorization (TextVec  (None, 714)              0         \n",
            " torization)                                                     \n",
            "                                                                 \n",
            " embedding_1 (Embedding)     (None, 714, 128)          3187840   \n",
            "                                                                 \n",
            " bidirectional (Bidirectiona  (None, 714, 128)         98816     \n",
            " l)                                                              \n",
            "                                                                 \n",
            " bidirectional_1 (Bidirectio  (None, 714, 256)         263168    \n",
            " nal)                                                            \n",
            "                                                                 \n",
            " dense_6 (Dense)             (None, 714, 128)          32896     \n",
            "                                                                 \n",
            " global_average_pooling1d_4   (None, 128)              0         \n",
            " (GlobalAveragePooling1D)                                        \n",
            "                                                                 \n",
            " dense_7 (Dense)             (None, 5)                 645       \n",
            "                                                                 \n",
            "=================================================================\n",
            "Total params: 3,583,365\n",
            "Trainable params: 3,583,365\n",
            "Non-trainable params: 0\n",
            "_________________________________________________________________\n"
          ]
        }
      ]
    },
    {
      "cell_type": "code",
      "metadata": {
        "id": "ZFSiKlwuXghQ",
        "colab": {
          "base_uri": "https://localhost:8080/"
        },
        "outputId": "ac042d60-c0ac-42e5-eb12-72e91e911a92"
      },
      "source": [
        "logging.warning(\"Fit and train model\")\n",
        "history_5 = model_5.fit(train_dataset,\n",
        "                        epochs=5,\n",
        "                        validation_data=val_dataset,\n",
        "                        callbacks=[early_stopping_callback,\n",
        "                                   create_tensorboard_callback('Model_logs',\n",
        "                                                               'Model_5_Bidirectional(LSTM)')])"
      ],
      "execution_count": 98,
      "outputs": [
        {
          "output_type": "stream",
          "name": "stdout",
          "text": [
            "Saving TensorBoard log files to: Model_logs/Model_5_Bidirectional(LSTM)/20211129-014826\n",
            "Epoch 1/5\n",
            "38/38 [==============================] - 26s 488ms/step - loss: 0.5691 - accuracy: 0.8557 - val_loss: 0.3301 - val_accuracy: 0.9027\n",
            "Epoch 2/5\n",
            "38/38 [==============================] - 17s 437ms/step - loss: 0.1206 - accuracy: 0.9681 - val_loss: 0.1036 - val_accuracy: 0.9664\n",
            "Epoch 3/5\n",
            "38/38 [==============================] - 17s 438ms/step - loss: 0.0138 - accuracy: 0.9983 - val_loss: 0.1464 - val_accuracy: 0.9664\n",
            "Epoch 4/5\n",
            "38/38 [==============================] - 17s 437ms/step - loss: 0.0117 - accuracy: 0.9966 - val_loss: 0.1250 - val_accuracy: 0.9698\n",
            "Epoch 5/5\n",
            "38/38 [==============================] - 17s 441ms/step - loss: 0.0073 - accuracy: 0.9983 - val_loss: 0.1131 - val_accuracy: 0.9765\n"
          ]
        }
      ]
    },
    {
      "cell_type": "code",
      "metadata": {
        "id": "WCl4dOgkX0bn",
        "colab": {
          "base_uri": "https://localhost:8080/"
        },
        "outputId": "4b05bae8-22f9-4ac9-c56f-32f0764ea808"
      },
      "source": [
        "logging.warning(\"Evaluate model_5 on val_dataset\")\n",
        "model_5.evaluate(val_dataset)"
      ],
      "execution_count": 99,
      "outputs": [
        {
          "output_type": "stream",
          "name": "stdout",
          "text": [
            "10/10 [==============================] - 1s 149ms/step - loss: 0.1131 - accuracy: 0.9765\n"
          ]
        },
        {
          "output_type": "execute_result",
          "data": {
            "text/plain": [
              "[0.11305049806833267, 0.9765100479125977]"
            ]
          },
          "metadata": {},
          "execution_count": 99
        }
      ]
    },
    {
      "cell_type": "code",
      "metadata": {
        "id": "1zODddJaYly1",
        "colab": {
          "base_uri": "https://localhost:8080/"
        },
        "outputId": "fedbc35d-4273-4f8c-e993-50dfa9c019e3"
      },
      "source": [
        "logging.warning(\"Make prediction using Model_5 on val_dataset\")\n",
        "model_5_preds = tf.argmax(model_5.predict(val_dataset),axis=1)\n",
        "model_5_preds"
      ],
      "execution_count": 100,
      "outputs": [
        {
          "output_type": "execute_result",
          "data": {
            "text/plain": [
              "<tf.Tensor: shape=(298,), dtype=int64, numpy=\n",
              "array([1, 1, 3, 2, 2, 4, 4, 1, 3, 3, 1, 3, 3, 3, 1, 1, 2, 3, 0, 1, 3, 0,\n",
              "       0, 4, 3, 3, 1, 0, 3, 3, 2, 3, 1, 0, 0, 0, 2, 0, 0, 1, 3, 1, 4, 1,\n",
              "       4, 3, 3, 0, 3, 3, 0, 0, 0, 1, 3, 0, 3, 4, 2, 3, 3, 2, 0, 0, 4, 2,\n",
              "       4, 3, 2, 0, 2, 4, 3, 3, 4, 2, 1, 0, 1, 0, 3, 2, 0, 4, 2, 3, 0, 0,\n",
              "       0, 1, 1, 1, 3, 4, 4, 0, 4, 3, 2, 0, 0, 2, 3, 1, 1, 0, 2, 1, 1, 4,\n",
              "       3, 2, 3, 3, 0, 0, 1, 4, 0, 1, 4, 0, 0, 1, 1, 4, 3, 2, 3, 0, 2, 3,\n",
              "       3, 0, 2, 0, 4, 3, 4, 4, 3, 3, 4, 1, 4, 1, 3, 0, 0, 1, 3, 4, 3, 3,\n",
              "       1, 1, 0, 1, 2, 1, 1, 2, 3, 1, 0, 2, 4, 2, 0, 4, 2, 0, 3, 2, 4, 1,\n",
              "       0, 4, 0, 0, 4, 4, 4, 2, 2, 3, 4, 4, 4, 0, 1, 4, 2, 0, 1, 0, 0, 0,\n",
              "       2, 3, 0, 3, 2, 4, 0, 0, 4, 1, 0, 0, 3, 4, 2, 2, 3, 4, 0, 1, 4, 4,\n",
              "       0, 3, 1, 4, 1, 0, 3, 2, 2, 0, 4, 1, 2, 1, 4, 2, 1, 1, 2, 3, 0, 0,\n",
              "       3, 4, 3, 1, 4, 4, 3, 3, 3, 1, 4, 3, 1, 1, 4, 3, 0, 4, 0, 0, 1, 2,\n",
              "       0, 2, 2, 4, 0, 0, 3, 1, 4, 2, 3, 3, 4, 3, 0, 0, 2, 0, 0, 2, 0, 3,\n",
              "       1, 3, 1, 0, 3, 3, 2, 0, 0, 0, 4, 2])>"
            ]
          },
          "metadata": {},
          "execution_count": 100
        }
      ]
    },
    {
      "cell_type": "code",
      "metadata": {
        "id": "TDLNlJ65Y0fH",
        "colab": {
          "base_uri": "https://localhost:8080/"
        },
        "outputId": "9d4e0115-9c64-4b8a-e92a-db9e2d456cb2"
      },
      "source": [
        "logging.warning(\"Evaluation Metrics\")\n",
        "model_5_results = evaluation_metrics(val_labels,\n",
        "                                     model_5_preds)\n",
        "model_5_results"
      ],
      "execution_count": 101,
      "outputs": [
        {
          "output_type": "execute_result",
          "data": {
            "text/plain": [
              "{'accuracy': 0.9765100671140939,\n",
              " 'f1': 0.9765513980756624,\n",
              " 'precision': 0.9777529207059407,\n",
              " 'recall': 0.9765100671140939}"
            ]
          },
          "metadata": {},
          "execution_count": 101
        }
      ]
    },
    {
      "cell_type": "code",
      "metadata": {
        "id": "JfUaWlPAZALP"
      },
      "source": [
        "logging.warning(\"-\"*100)\n",
        "logging.warning(\"Model 6 using Transfer Learning\")"
      ],
      "execution_count": 102,
      "outputs": []
    },
    {
      "cell_type": "code",
      "metadata": {
        "id": "vsMnDDm5Zhwg",
        "colab": {
          "base_uri": "https://localhost:8080/"
        },
        "outputId": "b366bff1-ad6b-4dfb-c1ce-ade886336ade"
      },
      "source": [
        "!pip install transformers"
      ],
      "execution_count": 103,
      "outputs": [
        {
          "output_type": "stream",
          "name": "stdout",
          "text": [
            "Collecting transformers\n",
            "  Downloading transformers-4.12.5-py3-none-any.whl (3.1 MB)\n",
            "\u001b[K     |████████████████████████████████| 3.1 MB 5.4 MB/s \n",
            "\u001b[?25hRequirement already satisfied: requests in /usr/local/lib/python3.7/dist-packages (from transformers) (2.23.0)\n",
            "Requirement already satisfied: packaging>=20.0 in /usr/local/lib/python3.7/dist-packages (from transformers) (21.3)\n",
            "Collecting sacremoses\n",
            "  Downloading sacremoses-0.0.46-py3-none-any.whl (895 kB)\n",
            "\u001b[K     |████████████████████████████████| 895 kB 40.4 MB/s \n",
            "\u001b[?25hRequirement already satisfied: filelock in /usr/local/lib/python3.7/dist-packages (from transformers) (3.4.0)\n",
            "Requirement already satisfied: regex!=2019.12.17 in /usr/local/lib/python3.7/dist-packages (from transformers) (2019.12.20)\n",
            "Collecting tokenizers<0.11,>=0.10.1\n",
            "  Downloading tokenizers-0.10.3-cp37-cp37m-manylinux_2_5_x86_64.manylinux1_x86_64.manylinux_2_12_x86_64.manylinux2010_x86_64.whl (3.3 MB)\n",
            "\u001b[K     |████████████████████████████████| 3.3 MB 25.4 MB/s \n",
            "\u001b[?25hRequirement already satisfied: importlib-metadata in /usr/local/lib/python3.7/dist-packages (from transformers) (4.8.2)\n",
            "Requirement already satisfied: numpy>=1.17 in /usr/local/lib/python3.7/dist-packages (from transformers) (1.19.5)\n",
            "Collecting huggingface-hub<1.0,>=0.1.0\n",
            "  Downloading huggingface_hub-0.1.2-py3-none-any.whl (59 kB)\n",
            "\u001b[K     |████████████████████████████████| 59 kB 6.2 MB/s \n",
            "\u001b[?25hRequirement already satisfied: tqdm>=4.27 in /usr/local/lib/python3.7/dist-packages (from transformers) (4.62.3)\n",
            "Collecting pyyaml>=5.1\n",
            "  Downloading PyYAML-6.0-cp37-cp37m-manylinux_2_5_x86_64.manylinux1_x86_64.manylinux_2_12_x86_64.manylinux2010_x86_64.whl (596 kB)\n",
            "\u001b[K     |████████████████████████████████| 596 kB 25.1 MB/s \n",
            "\u001b[?25hRequirement already satisfied: typing-extensions>=3.7.4.3 in /usr/local/lib/python3.7/dist-packages (from huggingface-hub<1.0,>=0.1.0->transformers) (3.10.0.2)\n",
            "Requirement already satisfied: pyparsing!=3.0.5,>=2.0.2 in /usr/local/lib/python3.7/dist-packages (from packaging>=20.0->transformers) (3.0.6)\n",
            "Requirement already satisfied: zipp>=0.5 in /usr/local/lib/python3.7/dist-packages (from importlib-metadata->transformers) (3.6.0)\n",
            "Requirement already satisfied: certifi>=2017.4.17 in /usr/local/lib/python3.7/dist-packages (from requests->transformers) (2021.10.8)\n",
            "Requirement already satisfied: idna<3,>=2.5 in /usr/local/lib/python3.7/dist-packages (from requests->transformers) (2.10)\n",
            "Requirement already satisfied: chardet<4,>=3.0.2 in /usr/local/lib/python3.7/dist-packages (from requests->transformers) (3.0.4)\n",
            "Requirement already satisfied: urllib3!=1.25.0,!=1.25.1,<1.26,>=1.21.1 in /usr/local/lib/python3.7/dist-packages (from requests->transformers) (1.24.3)\n",
            "Requirement already satisfied: six in /usr/local/lib/python3.7/dist-packages (from sacremoses->transformers) (1.15.0)\n",
            "Requirement already satisfied: click in /usr/local/lib/python3.7/dist-packages (from sacremoses->transformers) (7.1.2)\n",
            "Requirement already satisfied: joblib in /usr/local/lib/python3.7/dist-packages (from sacremoses->transformers) (1.1.0)\n",
            "Installing collected packages: pyyaml, tokenizers, sacremoses, huggingface-hub, transformers\n",
            "  Attempting uninstall: pyyaml\n",
            "    Found existing installation: PyYAML 3.13\n",
            "    Uninstalling PyYAML-3.13:\n",
            "      Successfully uninstalled PyYAML-3.13\n",
            "Successfully installed huggingface-hub-0.1.2 pyyaml-6.0 sacremoses-0.0.46 tokenizers-0.10.3 transformers-4.12.5\n"
          ]
        }
      ]
    },
    {
      "cell_type": "code",
      "metadata": {
        "id": "heFaNGKDhmAR",
        "colab": {
          "base_uri": "https://localhost:8080/"
        },
        "outputId": "075459b4-c20d-41c6-bebe-d8c002e92e4b"
      },
      "source": [
        "!pip install tensorflow_text"
      ],
      "execution_count": 104,
      "outputs": [
        {
          "output_type": "stream",
          "name": "stdout",
          "text": [
            "Collecting tensorflow_text\n",
            "  Downloading tensorflow_text-2.7.3-cp37-cp37m-manylinux2010_x86_64.whl (4.9 MB)\n",
            "\u001b[K     |████████████████████████████████| 4.9 MB 5.2 MB/s \n",
            "\u001b[?25hRequirement already satisfied: tensorflow-hub>=0.8.0 in /usr/local/lib/python3.7/dist-packages (from tensorflow_text) (0.12.0)\n",
            "Requirement already satisfied: tensorflow<2.8,>=2.7.0 in /usr/local/lib/python3.7/dist-packages (from tensorflow_text) (2.7.0)\n",
            "Requirement already satisfied: wheel<1.0,>=0.32.0 in /usr/local/lib/python3.7/dist-packages (from tensorflow<2.8,>=2.7.0->tensorflow_text) (0.37.0)\n",
            "Requirement already satisfied: typing-extensions>=3.6.6 in /usr/local/lib/python3.7/dist-packages (from tensorflow<2.8,>=2.7.0->tensorflow_text) (3.10.0.2)\n",
            "Requirement already satisfied: tensorflow-estimator<2.8,~=2.7.0rc0 in /usr/local/lib/python3.7/dist-packages (from tensorflow<2.8,>=2.7.0->tensorflow_text) (2.7.0)\n",
            "Requirement already satisfied: h5py>=2.9.0 in /usr/local/lib/python3.7/dist-packages (from tensorflow<2.8,>=2.7.0->tensorflow_text) (3.1.0)\n",
            "Requirement already satisfied: protobuf>=3.9.2 in /usr/local/lib/python3.7/dist-packages (from tensorflow<2.8,>=2.7.0->tensorflow_text) (3.17.3)\n",
            "Requirement already satisfied: grpcio<2.0,>=1.24.3 in /usr/local/lib/python3.7/dist-packages (from tensorflow<2.8,>=2.7.0->tensorflow_text) (1.42.0)\n",
            "Requirement already satisfied: tensorboard~=2.6 in /usr/local/lib/python3.7/dist-packages (from tensorflow<2.8,>=2.7.0->tensorflow_text) (2.7.0)\n",
            "Requirement already satisfied: flatbuffers<3.0,>=1.12 in /usr/local/lib/python3.7/dist-packages (from tensorflow<2.8,>=2.7.0->tensorflow_text) (2.0)\n",
            "Requirement already satisfied: six>=1.12.0 in /usr/local/lib/python3.7/dist-packages (from tensorflow<2.8,>=2.7.0->tensorflow_text) (1.15.0)\n",
            "Requirement already satisfied: opt-einsum>=2.3.2 in /usr/local/lib/python3.7/dist-packages (from tensorflow<2.8,>=2.7.0->tensorflow_text) (3.3.0)\n",
            "Requirement already satisfied: keras<2.8,>=2.7.0rc0 in /usr/local/lib/python3.7/dist-packages (from tensorflow<2.8,>=2.7.0->tensorflow_text) (2.7.0)\n",
            "Requirement already satisfied: absl-py>=0.4.0 in /usr/local/lib/python3.7/dist-packages (from tensorflow<2.8,>=2.7.0->tensorflow_text) (0.12.0)\n",
            "Requirement already satisfied: google-pasta>=0.1.1 in /usr/local/lib/python3.7/dist-packages (from tensorflow<2.8,>=2.7.0->tensorflow_text) (0.2.0)\n",
            "Requirement already satisfied: keras-preprocessing>=1.1.1 in /usr/local/lib/python3.7/dist-packages (from tensorflow<2.8,>=2.7.0->tensorflow_text) (1.1.2)\n",
            "Requirement already satisfied: astunparse>=1.6.0 in /usr/local/lib/python3.7/dist-packages (from tensorflow<2.8,>=2.7.0->tensorflow_text) (1.6.3)\n",
            "Requirement already satisfied: gast<0.5.0,>=0.2.1 in /usr/local/lib/python3.7/dist-packages (from tensorflow<2.8,>=2.7.0->tensorflow_text) (0.4.0)\n",
            "Requirement already satisfied: numpy>=1.14.5 in /usr/local/lib/python3.7/dist-packages (from tensorflow<2.8,>=2.7.0->tensorflow_text) (1.19.5)\n",
            "Requirement already satisfied: termcolor>=1.1.0 in /usr/local/lib/python3.7/dist-packages (from tensorflow<2.8,>=2.7.0->tensorflow_text) (1.1.0)\n",
            "Requirement already satisfied: tensorflow-io-gcs-filesystem>=0.21.0 in /usr/local/lib/python3.7/dist-packages (from tensorflow<2.8,>=2.7.0->tensorflow_text) (0.22.0)\n",
            "Requirement already satisfied: wrapt>=1.11.0 in /usr/local/lib/python3.7/dist-packages (from tensorflow<2.8,>=2.7.0->tensorflow_text) (1.13.3)\n",
            "Requirement already satisfied: libclang>=9.0.1 in /usr/local/lib/python3.7/dist-packages (from tensorflow<2.8,>=2.7.0->tensorflow_text) (12.0.0)\n",
            "Requirement already satisfied: cached-property in /usr/local/lib/python3.7/dist-packages (from h5py>=2.9.0->tensorflow<2.8,>=2.7.0->tensorflow_text) (1.5.2)\n",
            "Requirement already satisfied: google-auth<3,>=1.6.3 in /usr/local/lib/python3.7/dist-packages (from tensorboard~=2.6->tensorflow<2.8,>=2.7.0->tensorflow_text) (1.35.0)\n",
            "Requirement already satisfied: markdown>=2.6.8 in /usr/local/lib/python3.7/dist-packages (from tensorboard~=2.6->tensorflow<2.8,>=2.7.0->tensorflow_text) (3.3.6)\n",
            "Requirement already satisfied: werkzeug>=0.11.15 in /usr/local/lib/python3.7/dist-packages (from tensorboard~=2.6->tensorflow<2.8,>=2.7.0->tensorflow_text) (1.0.1)\n",
            "Requirement already satisfied: setuptools>=41.0.0 in /usr/local/lib/python3.7/dist-packages (from tensorboard~=2.6->tensorflow<2.8,>=2.7.0->tensorflow_text) (57.4.0)\n",
            "Requirement already satisfied: tensorboard-plugin-wit>=1.6.0 in /usr/local/lib/python3.7/dist-packages (from tensorboard~=2.6->tensorflow<2.8,>=2.7.0->tensorflow_text) (1.8.0)\n",
            "Requirement already satisfied: requests<3,>=2.21.0 in /usr/local/lib/python3.7/dist-packages (from tensorboard~=2.6->tensorflow<2.8,>=2.7.0->tensorflow_text) (2.23.0)\n",
            "Requirement already satisfied: tensorboard-data-server<0.7.0,>=0.6.0 in /usr/local/lib/python3.7/dist-packages (from tensorboard~=2.6->tensorflow<2.8,>=2.7.0->tensorflow_text) (0.6.1)\n",
            "Requirement already satisfied: google-auth-oauthlib<0.5,>=0.4.1 in /usr/local/lib/python3.7/dist-packages (from tensorboard~=2.6->tensorflow<2.8,>=2.7.0->tensorflow_text) (0.4.6)\n",
            "Requirement already satisfied: pyasn1-modules>=0.2.1 in /usr/local/lib/python3.7/dist-packages (from google-auth<3,>=1.6.3->tensorboard~=2.6->tensorflow<2.8,>=2.7.0->tensorflow_text) (0.2.8)\n",
            "Requirement already satisfied: cachetools<5.0,>=2.0.0 in /usr/local/lib/python3.7/dist-packages (from google-auth<3,>=1.6.3->tensorboard~=2.6->tensorflow<2.8,>=2.7.0->tensorflow_text) (4.2.4)\n",
            "Requirement already satisfied: rsa<5,>=3.1.4 in /usr/local/lib/python3.7/dist-packages (from google-auth<3,>=1.6.3->tensorboard~=2.6->tensorflow<2.8,>=2.7.0->tensorflow_text) (4.7.2)\n",
            "Requirement already satisfied: requests-oauthlib>=0.7.0 in /usr/local/lib/python3.7/dist-packages (from google-auth-oauthlib<0.5,>=0.4.1->tensorboard~=2.6->tensorflow<2.8,>=2.7.0->tensorflow_text) (1.3.0)\n",
            "Requirement already satisfied: importlib-metadata>=4.4 in /usr/local/lib/python3.7/dist-packages (from markdown>=2.6.8->tensorboard~=2.6->tensorflow<2.8,>=2.7.0->tensorflow_text) (4.8.2)\n",
            "Requirement already satisfied: zipp>=0.5 in /usr/local/lib/python3.7/dist-packages (from importlib-metadata>=4.4->markdown>=2.6.8->tensorboard~=2.6->tensorflow<2.8,>=2.7.0->tensorflow_text) (3.6.0)\n",
            "Requirement already satisfied: pyasn1<0.5.0,>=0.4.6 in /usr/local/lib/python3.7/dist-packages (from pyasn1-modules>=0.2.1->google-auth<3,>=1.6.3->tensorboard~=2.6->tensorflow<2.8,>=2.7.0->tensorflow_text) (0.4.8)\n",
            "Requirement already satisfied: idna<3,>=2.5 in /usr/local/lib/python3.7/dist-packages (from requests<3,>=2.21.0->tensorboard~=2.6->tensorflow<2.8,>=2.7.0->tensorflow_text) (2.10)\n",
            "Requirement already satisfied: certifi>=2017.4.17 in /usr/local/lib/python3.7/dist-packages (from requests<3,>=2.21.0->tensorboard~=2.6->tensorflow<2.8,>=2.7.0->tensorflow_text) (2021.10.8)\n",
            "Requirement already satisfied: chardet<4,>=3.0.2 in /usr/local/lib/python3.7/dist-packages (from requests<3,>=2.21.0->tensorboard~=2.6->tensorflow<2.8,>=2.7.0->tensorflow_text) (3.0.4)\n",
            "Requirement already satisfied: urllib3!=1.25.0,!=1.25.1,<1.26,>=1.21.1 in /usr/local/lib/python3.7/dist-packages (from requests<3,>=2.21.0->tensorboard~=2.6->tensorflow<2.8,>=2.7.0->tensorflow_text) (1.24.3)\n",
            "Requirement already satisfied: oauthlib>=3.0.0 in /usr/local/lib/python3.7/dist-packages (from requests-oauthlib>=0.7.0->google-auth-oauthlib<0.5,>=0.4.1->tensorboard~=2.6->tensorflow<2.8,>=2.7.0->tensorflow_text) (3.1.1)\n",
            "Installing collected packages: tensorflow-text\n",
            "Successfully installed tensorflow-text-2.7.3\n"
          ]
        }
      ]
    },
    {
      "cell_type": "code",
      "metadata": {
        "id": "vrnwyp4bkFnQ",
        "colab": {
          "base_uri": "https://localhost:8080/"
        },
        "outputId": "055fccfb-a96a-49e6-f6df-8dc8a9ad959a"
      },
      "source": [
        "# Load libraries\n",
        "import tensorflow_text as text\n",
        "import tensorflow_hub as hub \n",
        "\n",
        "preprocessing_layer = hub.KerasLayer('https://tfhub.dev/tensorflow/bert_en_uncased_preprocess/3',\n",
        "                                     trainable=False,name='preprocessing_layer')\n",
        "\n",
        "bert_layer = hub.KerasLayer('https://tfhub.dev/google/experts/bert/pubmed/2',\n",
        "                            trainable=False,\n",
        "                            name='bert_model_layer')\n",
        "# set random seed\n",
        "tf.random.set_seed(42)\n",
        "\n",
        "# Creating a model out of it \n",
        "input = layers.Input(shape = [] , dtype = tf.string ,ragged=True, name = 'input_sentences')\n",
        "bert_inputs = preprocessing_layer(input)\n",
        "bert_embedding =bert_layer(bert_inputs)\n",
        "print(f'bert embedding shape: {bert_embedding}')\n",
        "x = layers.Dense(128 , activation = 'relu')(bert_embedding['pooled_output'])\n",
        "x = layers.Dropout(0.5)(x)\n",
        "output = layers.Dense(len(class_names) , activation= 'softmax')(x)\n",
        "\n",
        "# Packing into a model\n",
        "model_6 = tf.keras.Model(input , output)\n",
        "model_6.summary()"
      ],
      "execution_count": 105,
      "outputs": [
        {
          "output_type": "stream",
          "name": "stdout",
          "text": [
            "bert embedding shape: {'sequence_output': <KerasTensor: shape=(None, 128, 768) dtype=float32 (created by layer 'bert_model_layer')>, 'encoder_outputs': [<KerasTensor: shape=(None, 128, 768) dtype=float32 (created by layer 'bert_model_layer')>, <KerasTensor: shape=(None, 128, 768) dtype=float32 (created by layer 'bert_model_layer')>, <KerasTensor: shape=(None, 128, 768) dtype=float32 (created by layer 'bert_model_layer')>, <KerasTensor: shape=(None, 128, 768) dtype=float32 (created by layer 'bert_model_layer')>, <KerasTensor: shape=(None, 128, 768) dtype=float32 (created by layer 'bert_model_layer')>, <KerasTensor: shape=(None, 128, 768) dtype=float32 (created by layer 'bert_model_layer')>, <KerasTensor: shape=(None, 128, 768) dtype=float32 (created by layer 'bert_model_layer')>, <KerasTensor: shape=(None, 128, 768) dtype=float32 (created by layer 'bert_model_layer')>, <KerasTensor: shape=(None, 128, 768) dtype=float32 (created by layer 'bert_model_layer')>, <KerasTensor: shape=(None, 128, 768) dtype=float32 (created by layer 'bert_model_layer')>, <KerasTensor: shape=(None, 128, 768) dtype=float32 (created by layer 'bert_model_layer')>, <KerasTensor: shape=(None, 128, 768) dtype=float32 (created by layer 'bert_model_layer')>], 'default': <KerasTensor: shape=(None, 768) dtype=float32 (created by layer 'bert_model_layer')>, 'pooled_output': <KerasTensor: shape=(None, 768) dtype=float32 (created by layer 'bert_model_layer')>}\n",
            "Model: \"model\"\n",
            "__________________________________________________________________________________________________\n",
            " Layer (type)                   Output Shape         Param #     Connected to                     \n",
            "==================================================================================================\n",
            " input_sentences (InputLayer)   [(None,)]            0           []                               \n",
            "                                                                                                  \n",
            " preprocessing_layer (KerasLaye  {'input_type_ids':   0          ['input_sentences[0][0]']        \n",
            " r)                             (None, 128),                                                      \n",
            "                                 'input_mask': (Non                                               \n",
            "                                e, 128),                                                          \n",
            "                                 'input_word_ids':                                                \n",
            "                                (None, 128)}                                                      \n",
            "                                                                                                  \n",
            " bert_model_layer (KerasLayer)  {'sequence_output':  109482241   ['preprocessing_layer[0][0]',    \n",
            "                                 (None, 128, 768),                'preprocessing_layer[0][1]',    \n",
            "                                 'encoder_outputs':               'preprocessing_layer[0][2]']    \n",
            "                                 [(None, 128, 768),                                               \n",
            "                                 (None, 128, 768),                                                \n",
            "                                 (None, 128, 768),                                                \n",
            "                                 (None, 128, 768),                                                \n",
            "                                 (None, 128, 768),                                                \n",
            "                                 (None, 128, 768),                                                \n",
            "                                 (None, 128, 768),                                                \n",
            "                                 (None, 128, 768),                                                \n",
            "                                 (None, 128, 768),                                                \n",
            "                                 (None, 128, 768),                                                \n",
            "                                 (None, 128, 768),                                                \n",
            "                                 (None, 128, 768)],                                               \n",
            "                                 'default': (None,                                                \n",
            "                                768),                                                             \n",
            "                                 'pooled_output': (                                               \n",
            "                                None, 768)}                                                       \n",
            "                                                                                                  \n",
            " dense_8 (Dense)                (None, 128)          98432       ['bert_model_layer[0][13]']      \n",
            "                                                                                                  \n",
            " dropout (Dropout)              (None, 128)          0           ['dense_8[0][0]']                \n",
            "                                                                                                  \n",
            " dense_9 (Dense)                (None, 5)            645         ['dropout[0][0]']                \n",
            "                                                                                                  \n",
            "==================================================================================================\n",
            "Total params: 109,581,318\n",
            "Trainable params: 99,077\n",
            "Non-trainable params: 109,482,241\n",
            "__________________________________________________________________________________________________\n"
          ]
        }
      ]
    },
    {
      "cell_type": "code",
      "metadata": {
        "id": "WxY8iz6glMYX",
        "colab": {
          "base_uri": "https://localhost:8080/"
        },
        "outputId": "579d6df0-c9f0-45fd-d130-c7e2a0e2f401"
      },
      "source": [
        "# Compile\n",
        "model_6.compile(loss=tf.keras.losses.SparseCategoricalCrossentropy(),\n",
        "                optimizer=tf.keras.optimizers.Adam(),\n",
        "                metrics=['accuracy'])\n",
        "\n",
        "logging.warning(\"Fit and train\")\n",
        "history_6 = model_6.fit(train_dataset,\n",
        "                        epochs=5,\n",
        "                        validation_data=val_dataset,\n",
        "                        callbacks=[early_stopping_callback,\n",
        "                                   create_tensorboard_callback('Model_logs',\n",
        "                                                               'Model_6_Bert')])"
      ],
      "execution_count": 106,
      "outputs": [
        {
          "output_type": "stream",
          "name": "stdout",
          "text": [
            "Saving TensorBoard log files to: Model_logs/Model_6_Bert/20211129-015051\n",
            "Epoch 1/5\n",
            "38/38 [==============================] - 41s 790ms/step - loss: 1.5812 - accuracy: 0.3263 - val_loss: 1.1949 - val_accuracy: 0.6309\n",
            "Epoch 2/5\n",
            "38/38 [==============================] - 34s 895ms/step - loss: 1.1142 - accuracy: 0.5705 - val_loss: 0.8930 - val_accuracy: 0.7383\n",
            "Epoch 3/5\n",
            "38/38 [==============================] - 30s 783ms/step - loss: 0.9271 - accuracy: 0.6644 - val_loss: 0.7665 - val_accuracy: 0.7752\n",
            "Epoch 4/5\n",
            "38/38 [==============================] - 29s 778ms/step - loss: 0.7762 - accuracy: 0.7299 - val_loss: 0.6632 - val_accuracy: 0.7953\n",
            "Epoch 5/5\n",
            "38/38 [==============================] - 29s 776ms/step - loss: 0.6903 - accuracy: 0.7693 - val_loss: 0.6278 - val_accuracy: 0.8087\n"
          ]
        }
      ]
    },
    {
      "cell_type": "code",
      "metadata": {
        "id": "lTDWoef0l-Ga",
        "colab": {
          "base_uri": "https://localhost:8080/"
        },
        "outputId": "b173cf9b-7da5-4863-be4f-e5298f007b72"
      },
      "source": [
        "logging.warning(\"Evaluate model_6 on val_dataset\")\n",
        "model_6.evaluate(val_dataset)"
      ],
      "execution_count": 107,
      "outputs": [
        {
          "output_type": "stream",
          "name": "stdout",
          "text": [
            "10/10 [==============================] - 6s 588ms/step - loss: 0.6278 - accuracy: 0.8087\n"
          ]
        },
        {
          "output_type": "execute_result",
          "data": {
            "text/plain": [
              "[0.6278420090675354, 0.8087248206138611]"
            ]
          },
          "metadata": {},
          "execution_count": 107
        }
      ]
    },
    {
      "cell_type": "code",
      "metadata": {
        "id": "84JINlASplV3",
        "colab": {
          "base_uri": "https://localhost:8080/"
        },
        "outputId": "3d96b02f-a88e-489f-fd2b-708a4668e7b6"
      },
      "source": [
        "logging.warning(\"Make Prediction using model_6 on val_dataset\")\n",
        "model_6_preds = tf.argmax(model_6.predict(val_dataset),axis=1)\n",
        "model_6_preds"
      ],
      "execution_count": 108,
      "outputs": [
        {
          "output_type": "execute_result",
          "data": {
            "text/plain": [
              "<tf.Tensor: shape=(298,), dtype=int64, numpy=\n",
              "array([1, 1, 3, 2, 2, 4, 4, 0, 3, 1, 1, 3, 3, 3, 1, 1, 2, 3, 0, 1, 3, 0,\n",
              "       0, 4, 3, 3, 1, 2, 3, 3, 2, 3, 3, 0, 0, 0, 2, 0, 0, 3, 1, 4, 4, 1,\n",
              "       4, 3, 3, 0, 3, 3, 0, 0, 0, 4, 3, 0, 3, 4, 2, 3, 3, 2, 3, 4, 4, 2,\n",
              "       4, 3, 2, 0, 2, 4, 3, 3, 2, 2, 3, 0, 0, 0, 3, 2, 2, 4, 1, 3, 0, 0,\n",
              "       0, 1, 4, 1, 3, 4, 4, 2, 4, 3, 2, 2, 2, 0, 3, 4, 1, 4, 2, 1, 1, 4,\n",
              "       3, 2, 1, 3, 4, 0, 1, 4, 2, 1, 4, 0, 0, 1, 4, 4, 3, 2, 3, 0, 2, 3,\n",
              "       3, 0, 2, 3, 4, 3, 0, 0, 3, 3, 0, 3, 4, 1, 1, 0, 0, 4, 3, 0, 3, 3,\n",
              "       1, 1, 0, 1, 2, 1, 3, 2, 3, 2, 0, 2, 4, 2, 0, 1, 2, 0, 2, 2, 4, 1,\n",
              "       0, 4, 0, 0, 4, 4, 4, 2, 3, 3, 4, 4, 4, 0, 1, 0, 2, 0, 1, 0, 2, 0,\n",
              "       2, 3, 0, 3, 2, 4, 0, 2, 4, 1, 0, 2, 3, 0, 2, 2, 3, 0, 0, 3, 4, 4,\n",
              "       0, 3, 1, 4, 1, 2, 3, 2, 2, 0, 4, 1, 2, 4, 4, 2, 3, 1, 2, 2, 0, 0,\n",
              "       0, 4, 3, 0, 4, 4, 3, 3, 3, 1, 4, 0, 1, 1, 0, 3, 0, 4, 0, 0, 2, 2,\n",
              "       0, 2, 2, 4, 0, 0, 3, 3, 4, 0, 3, 3, 4, 3, 0, 0, 2, 0, 0, 2, 0, 3,\n",
              "       1, 3, 1, 0, 3, 3, 2, 0, 0, 4, 4, 2])>"
            ]
          },
          "metadata": {},
          "execution_count": 108
        }
      ]
    },
    {
      "cell_type": "code",
      "metadata": {
        "id": "GwZH_-lepzhN",
        "colab": {
          "base_uri": "https://localhost:8080/"
        },
        "outputId": "d4c1fcbf-d4cf-44d4-a719-341a79eed6b1"
      },
      "source": [
        "# Evaluation metrics\n",
        "logging.warning(\"Evaluation metrics\")\n",
        "model_6_results = evaluation_metrics(val_labels,\n",
        "                                     model_6_preds)\n",
        "model_6_results"
      ],
      "execution_count": 109,
      "outputs": [
        {
          "output_type": "execute_result",
          "data": {
            "text/plain": [
              "{'accuracy': 0.8087248322147651,\n",
              " 'f1': 0.8065580510398471,\n",
              " 'precision': 0.8117052929265929,\n",
              " 'recall': 0.8087248322147651}"
            ]
          },
          "metadata": {},
          "execution_count": 109
        }
      ]
    },
    {
      "cell_type": "code",
      "metadata": {
        "id": "G79-y4bUq0n2",
        "colab": {
          "base_uri": "https://localhost:8080/",
          "height": 269
        },
        "outputId": "0bf29aed-cdfc-419e-8506-5ceac5bd0d32"
      },
      "source": [
        "# Combine model results into a DataFrame\n",
        "all_model_results = pd.DataFrame({\"Baseline\": baseline_results,\n",
        "                                  \"Simple_dense\": model_1_results,\n",
        "                                  \"Conv1D\": model_2_results,\n",
        "                                  \"LSTM\": model_3_results,\n",
        "                                  \"GRU\": model_4_results,\n",
        "                                  \"Bidirectional\": model_5_results,\n",
        "                                  \"BERT\": model_6_results,\n",
        "                                  })\n",
        "all_model_results = all_model_results.transpose()\n",
        "all_model_results"
      ],
      "execution_count": 110,
      "outputs": [
        {
          "output_type": "execute_result",
          "data": {
            "text/html": [
              "<div>\n",
              "<style scoped>\n",
              "    .dataframe tbody tr th:only-of-type {\n",
              "        vertical-align: middle;\n",
              "    }\n",
              "\n",
              "    .dataframe tbody tr th {\n",
              "        vertical-align: top;\n",
              "    }\n",
              "\n",
              "    .dataframe thead th {\n",
              "        text-align: right;\n",
              "    }\n",
              "</style>\n",
              "<table border=\"1\" class=\"dataframe\">\n",
              "  <thead>\n",
              "    <tr style=\"text-align: right;\">\n",
              "      <th></th>\n",
              "      <th>accuracy</th>\n",
              "      <th>precision</th>\n",
              "      <th>recall</th>\n",
              "      <th>f1</th>\n",
              "    </tr>\n",
              "  </thead>\n",
              "  <tbody>\n",
              "    <tr>\n",
              "      <th>Baseline</th>\n",
              "      <td>0.936242</td>\n",
              "      <td>0.940139</td>\n",
              "      <td>0.936242</td>\n",
              "      <td>0.935590</td>\n",
              "    </tr>\n",
              "    <tr>\n",
              "      <th>Simple_dense</th>\n",
              "      <td>0.738255</td>\n",
              "      <td>0.803972</td>\n",
              "      <td>0.738255</td>\n",
              "      <td>0.703104</td>\n",
              "    </tr>\n",
              "    <tr>\n",
              "      <th>Conv1D</th>\n",
              "      <td>0.956376</td>\n",
              "      <td>0.957100</td>\n",
              "      <td>0.956376</td>\n",
              "      <td>0.956023</td>\n",
              "    </tr>\n",
              "    <tr>\n",
              "      <th>LSTM</th>\n",
              "      <td>0.969799</td>\n",
              "      <td>0.970122</td>\n",
              "      <td>0.969799</td>\n",
              "      <td>0.969812</td>\n",
              "    </tr>\n",
              "    <tr>\n",
              "      <th>GRU</th>\n",
              "      <td>0.942953</td>\n",
              "      <td>0.944815</td>\n",
              "      <td>0.942953</td>\n",
              "      <td>0.942476</td>\n",
              "    </tr>\n",
              "    <tr>\n",
              "      <th>Bidirectional</th>\n",
              "      <td>0.976510</td>\n",
              "      <td>0.977753</td>\n",
              "      <td>0.976510</td>\n",
              "      <td>0.976551</td>\n",
              "    </tr>\n",
              "    <tr>\n",
              "      <th>BERT</th>\n",
              "      <td>0.808725</td>\n",
              "      <td>0.811705</td>\n",
              "      <td>0.808725</td>\n",
              "      <td>0.806558</td>\n",
              "    </tr>\n",
              "  </tbody>\n",
              "</table>\n",
              "</div>"
            ],
            "text/plain": [
              "               accuracy  precision    recall        f1\n",
              "Baseline       0.936242   0.940139  0.936242  0.935590\n",
              "Simple_dense   0.738255   0.803972  0.738255  0.703104\n",
              "Conv1D         0.956376   0.957100  0.956376  0.956023\n",
              "LSTM           0.969799   0.970122  0.969799  0.969812\n",
              "GRU            0.942953   0.944815  0.942953  0.942476\n",
              "Bidirectional  0.976510   0.977753  0.976510  0.976551\n",
              "BERT           0.808725   0.811705  0.808725  0.806558"
            ]
          },
          "metadata": {},
          "execution_count": 110
        }
      ]
    },
    {
      "cell_type": "code",
      "metadata": {
        "id": "vXkiHWnfsIWL",
        "colab": {
          "base_uri": "https://localhost:8080/",
          "height": 488
        },
        "outputId": "2fca5b8d-bfc4-4ded-dc99-3ce60eacc347"
      },
      "source": [
        "# Plot and compare all of the model results\n",
        "all_model_results.plot(kind=\"bar\", figsize=(10, 7)).legend(bbox_to_anchor=(1.0, 1.0));"
      ],
      "execution_count": 111,
      "outputs": [
        {
          "output_type": "display_data",
          "data": {
            "image/png": "[encoded data removed]",
            "text/plain": [
              "<Figure size 720x504 with 1 Axes>"
            ]
          },
          "metadata": {
            "needs_background": "light"
          }
        }
      ]
    },
    {
      "cell_type": "code",
      "metadata": {
        "id": "TSnxJBGYsKzL",
        "colab": {
          "base_uri": "https://localhost:8080/",
          "height": 488
        },
        "outputId": "89408de9-9dc4-468a-f590-1f58c6983110"
      },
      "source": [
        "# Sort model results by f1-score\n",
        "all_model_results.sort_values(\"f1\", ascending=False)[\"f1\"].plot(kind=\"bar\", figsize=(10, 7),color='lightgreen');"
      ],
      "execution_count": 112,
      "outputs": [
        {
          "output_type": "display_data",
          "data": {
            "image/png": "[encoded data removed]",
            "text/plain": [
              "<Figure size 720x504 with 1 Axes>"
            ]
          },
          "metadata": {
            "needs_background": "light"
          }
        }
      ]
    },
    {
      "cell_type": "code",
      "metadata": {
        "id": "Zl51yx6bsg2H"
      },
      "source": [
        "logging.warning(\"-\"*100)"
      ],
      "execution_count": 113,
      "outputs": []
    },
    {
      "cell_type": "code",
      "metadata": {
        "id": "jsuWEFt6S-op"
      },
      "source": [
        "logging.warning(\"Save best performing model\")"
      ],
      "execution_count": 114,
      "outputs": []
    },
    {
      "cell_type": "code",
      "metadata": {
        "colab": {
          "base_uri": "https://localhost:8080/"
        },
        "id": "VbRpDZfigTVC",
        "outputId": "cf9b1c7a-307e-41f1-9b7e-42cccfe42aea"
      },
      "source": [
        "import pickle\n",
        "pickle.dump(model_5, open('bidirectional.pkl','wb'))\n",
        "\n",
        "# load_model\n",
        "load_pickle_model = pickle.load(open('bidirectional.pkl','rb'))"
      ],
      "execution_count": 123,
      "outputs": [
        {
          "output_type": "stream",
          "name": "stdout",
          "text": [
            "INFO:tensorflow:Assets written to: ram://6d271296-9318-42d4-a34c-5e5f7ab32cda/assets\n"
          ]
        }
      ]
    },
    {
      "cell_type": "code",
      "metadata": {
        "id": "WERMhSQDacQc"
      },
      "source": [
        "logging.warning('Load saved model and checking summary')"
      ],
      "execution_count": 124,
      "outputs": []
    },
    {
      "cell_type": "code",
      "metadata": {
        "colab": {
          "base_uri": "https://localhost:8080/"
        },
        "id": "dH3BgHZ0kXrX",
        "outputId": "220ae459-8be7-4778-e773-d77f28aeb201"
      },
      "source": [
        "load_pickle_model.summary()"
      ],
      "execution_count": 125,
      "outputs": [
        {
          "output_type": "stream",
          "name": "stdout",
          "text": [
            "Model: \"model_5\"\n",
            "_________________________________________________________________\n",
            " Layer (type)                Output Shape              Param #   \n",
            "=================================================================\n",
            " input_5 (InputLayer)        [(None, 1)]               0         \n",
            "                                                                 \n",
            " text_vectorization (TextVec  (None, None)             0         \n",
            " torization)                                                     \n",
            "                                                                 \n",
            " embedding_1 (Embedding)     (None, None, 128)         3187840   \n",
            "                                                                 \n",
            " bidirectional (Bidirectiona  (None, None, 128)        98816     \n",
            " l)                                                              \n",
            "                                                                 \n",
            " bidirectional_1 (Bidirectio  (None, None, 256)        263168    \n",
            " nal)                                                            \n",
            "                                                                 \n",
            " dense_6 (Dense)             (None, None, 128)         32896     \n",
            "                                                                 \n",
            " global_average_pooling1d_4   (None, 128)              0         \n",
            " (GlobalAveragePooling1D)                                        \n",
            "                                                                 \n",
            " dense_7 (Dense)             (None, 5)                 645       \n",
            "                                                                 \n",
            "=================================================================\n",
            "Total params: 3,583,365\n",
            "Trainable params: 3,583,365\n",
            "Non-trainable params: 0\n",
            "_________________________________________________________________\n"
          ]
        }
      ]
    },
    {
      "cell_type": "code",
      "metadata": {
        "id": "V_me1KkIajhd"
      },
      "source": [
        "logging.warning('Evaluate saved model on val_dataset')"
      ],
      "execution_count": 126,
      "outputs": []
    },
    {
      "cell_type": "code",
      "metadata": {
        "colab": {
          "base_uri": "https://localhost:8080/"
        },
        "id": "4bSvGAG4kuzY",
        "outputId": "41a25992-84dd-44c5-a3a8-eb2e4e53a5ed"
      },
      "source": [
        "load_pickle_model.evaluate(val_dataset)"
      ],
      "execution_count": 127,
      "outputs": [
        {
          "output_type": "stream",
          "name": "stdout",
          "text": [
            "10/10 [==============================] - 24s 2s/step - loss: 0.1393 - accuracy: 0.9799\n"
          ]
        },
        {
          "output_type": "execute_result",
          "data": {
            "text/plain": [
              "[0.1393091082572937, 0.9798657894134521]"
            ]
          },
          "metadata": {},
          "execution_count": 127
        }
      ]
    },
    {
      "cell_type": "code",
      "metadata": {
        "id": "lAdvjO3HapVx"
      },
      "source": [
        "logging.warning('Make prediction')"
      ],
      "execution_count": 128,
      "outputs": []
    },
    {
      "cell_type": "code",
      "metadata": {
        "colab": {
          "base_uri": "https://localhost:8080/"
        },
        "id": "YRaJkHomkLOQ",
        "outputId": "dacbaed9-75b7-47eb-ad1d-c07ef0814fab"
      },
      "source": [
        "# make prediction using saved_model\n",
        "pred_proba = load_pickle_model.predict(val_dataset)\n",
        "preds = tf.argmax(pred_proba, axis=1)\n",
        "preds"
      ],
      "execution_count": 129,
      "outputs": [
        {
          "output_type": "execute_result",
          "data": {
            "text/plain": [
              "<tf.Tensor: shape=(298,), dtype=int64, numpy=\n",
              "array([1, 1, 3, 2, 2, 4, 4, 1, 3, 3, 1, 3, 3, 3, 1, 1, 2, 3, 0, 1, 3, 0,\n",
              "       0, 4, 3, 3, 1, 0, 3, 3, 2, 3, 1, 0, 0, 0, 2, 0, 0, 1, 3, 1, 4, 4,\n",
              "       4, 3, 3, 0, 3, 3, 0, 0, 0, 1, 3, 0, 3, 4, 2, 3, 3, 2, 0, 0, 4, 2,\n",
              "       4, 3, 2, 0, 2, 4, 3, 3, 4, 2, 1, 0, 1, 0, 3, 2, 0, 4, 2, 3, 0, 0,\n",
              "       0, 1, 4, 1, 3, 4, 4, 0, 4, 3, 2, 0, 0, 2, 3, 1, 1, 0, 2, 1, 1, 4,\n",
              "       3, 2, 3, 3, 0, 0, 1, 4, 0, 1, 4, 0, 0, 1, 1, 4, 3, 2, 3, 0, 2, 3,\n",
              "       3, 4, 2, 0, 4, 3, 4, 4, 3, 3, 4, 1, 4, 1, 3, 0, 0, 1, 3, 4, 3, 3,\n",
              "       1, 1, 0, 1, 2, 1, 1, 2, 3, 1, 0, 2, 4, 2, 0, 4, 2, 0, 3, 2, 4, 1,\n",
              "       0, 4, 0, 0, 4, 4, 4, 2, 2, 3, 4, 4, 4, 0, 1, 4, 2, 0, 1, 0, 0, 0,\n",
              "       2, 3, 0, 3, 2, 4, 0, 0, 4, 1, 0, 0, 3, 4, 2, 2, 3, 4, 0, 1, 4, 4,\n",
              "       0, 3, 1, 4, 1, 0, 3, 2, 2, 0, 4, 1, 2, 1, 4, 2, 1, 1, 2, 3, 0, 0,\n",
              "       3, 4, 3, 1, 4, 4, 3, 3, 3, 1, 4, 3, 1, 1, 4, 3, 0, 4, 0, 0, 1, 2,\n",
              "       0, 2, 2, 4, 0, 0, 3, 1, 4, 2, 3, 3, 4, 3, 0, 0, 2, 0, 0, 2, 0, 3,\n",
              "       1, 3, 1, 0, 3, 3, 2, 0, 0, 0, 4, 2])>"
            ]
          },
          "metadata": {},
          "execution_count": 129
        }
      ]
    },
    {
      "cell_type": "code",
      "metadata": {
        "id": "VRFQzu8ba4s6"
      },
      "source": [
        "logging.warning('Check the model_logs on tensorboard')"
      ],
      "execution_count": 130,
      "outputs": []
    },
    {
      "cell_type": "code",
      "metadata": {
        "id": "GOolbp27YivR"
      },
      "source": [
        "# !tensorboard dev upload --logdir Model_logs \\\n",
        "#   --name \"News Classification Models\" \\\n",
        "#   --description \"Training results for different models\" \\\n",
        "#   --one_shot"
      ],
      "execution_count": 131,
      "outputs": []
    },
    {
      "cell_type": "code",
      "metadata": {
        "id": "0QRWKbiK0n7U"
      },
      "source": [
        "# !tensorboard dev list"
      ],
      "execution_count": 132,
      "outputs": []
    },
    {
      "cell_type": "code",
      "metadata": {
        "id": "f6DFg4tS1f_i"
      },
      "source": [
        "logging.warning(\"-\"*100)\n",
        "logging.warning('End')"
      ],
      "execution_count": 133,
      "outputs": []
    },
    {
      "cell_type": "code",
      "metadata": {
        "id": "laP6iyyUbH-T"
      },
      "source": [
        ""
      ],
      "execution_count": null,
      "outputs": []
    }
  ]
}